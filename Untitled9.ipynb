{
 "cells": [
  {
   "cell_type": "code",
   "execution_count": 1,
   "metadata": {},
   "outputs": [
    {
     "name": "stdout",
     "output_type": "stream",
     "text": [
      "[nltk_data] Downloading package wordnet to\n",
      "[nltk_data]     /Users/justinpassek/nltk_data...\n",
      "[nltk_data]   Unzipping corpora/wordnet.zip.\n",
      "Collecting gensim\n",
      "\u001b[?25l  Downloading https://files.pythonhosted.org/packages/1e/27/6fdcddfbce1963989eb527f0ba4749829509c0172c275806cffd5a7e1776/gensim-3.8.1-cp36-cp36m-macosx_10_6_intel.macosx_10_9_intel.macosx_10_9_x86_64.macosx_10_10_intel.macosx_10_10_x86_64.whl (24.7MB)\n",
      "\u001b[K     |████████████████████████████████| 24.7MB 22.7MB/s eta 0:00:01   |████████▎                       | 6.3MB 5.0MB/s eta 0:00:04\n",
      "\u001b[?25hRequirement already satisfied, skipping upgrade: scipy>=0.18.1 in /anaconda3/lib/python3.6/site-packages (from gensim) (1.1.0)\n",
      "Requirement already satisfied, skipping upgrade: numpy>=1.11.3 in /anaconda3/lib/python3.6/site-packages (from gensim) (1.17.2)\n",
      "Collecting smart-open>=1.8.1 (from gensim)\n",
      "\u001b[?25l  Downloading https://files.pythonhosted.org/packages/37/c0/25d19badc495428dec6a4bf7782de617ee0246a9211af75b302a2681dea7/smart_open-1.8.4.tar.gz (63kB)\n",
      "\u001b[K     |████████████████████████████████| 71kB 20.4MB/s eta 0:00:01\n",
      "\u001b[?25hRequirement already satisfied, skipping upgrade: six>=1.5.0 in /anaconda3/lib/python3.6/site-packages (from gensim) (1.11.0)\n",
      "Requirement already satisfied, skipping upgrade: boto>=2.32 in /anaconda3/lib/python3.6/site-packages (from smart-open>=1.8.1->gensim) (2.48.0)\n",
      "Requirement already satisfied, skipping upgrade: requests in /anaconda3/lib/python3.6/site-packages (from smart-open>=1.8.1->gensim) (2.22.0)\n",
      "Collecting boto3 (from smart-open>=1.8.1->gensim)\n",
      "\u001b[?25l  Downloading https://files.pythonhosted.org/packages/af/1d/833d463417f1ff84aeae42eb52795f4909cf54dbec62634e341080be5b0c/boto3-1.10.5-py2.py3-none-any.whl (128kB)\n",
      "\u001b[K     |████████████████████████████████| 133kB 26.2MB/s eta 0:00:01\n",
      "\u001b[?25hRequirement already satisfied, skipping upgrade: idna<2.9,>=2.5 in /anaconda3/lib/python3.6/site-packages (from requests->smart-open>=1.8.1->gensim) (2.6)\n",
      "Requirement already satisfied, skipping upgrade: chardet<3.1.0,>=3.0.2 in /anaconda3/lib/python3.6/site-packages (from requests->smart-open>=1.8.1->gensim) (3.0.4)\n",
      "Requirement already satisfied, skipping upgrade: urllib3!=1.25.0,!=1.25.1,<1.26,>=1.21.1 in /anaconda3/lib/python3.6/site-packages (from requests->smart-open>=1.8.1->gensim) (1.22)\n",
      "Requirement already satisfied, skipping upgrade: certifi>=2017.4.17 in /anaconda3/lib/python3.6/site-packages (from requests->smart-open>=1.8.1->gensim) (2018.4.16)\n",
      "Collecting jmespath<1.0.0,>=0.7.1 (from boto3->smart-open>=1.8.1->gensim)\n",
      "  Downloading https://files.pythonhosted.org/packages/83/94/7179c3832a6d45b266ddb2aac329e101367fbdb11f425f13771d27f225bb/jmespath-0.9.4-py2.py3-none-any.whl\n",
      "Collecting botocore<1.14.0,>=1.13.5 (from boto3->smart-open>=1.8.1->gensim)\n",
      "\u001b[?25l  Downloading https://files.pythonhosted.org/packages/10/d8/f1fb1d6afe096fc7786187bea1a92fc7ebfec240ebd4d9ae8a36fc632e9a/botocore-1.13.5-py2.py3-none-any.whl (5.3MB)\n",
      "\u001b[K     |████████████████████████████████| 5.3MB 19.3MB/s eta 0:00:01\n",
      "\u001b[?25hCollecting s3transfer<0.3.0,>=0.2.0 (from boto3->smart-open>=1.8.1->gensim)\n",
      "\u001b[?25l  Downloading https://files.pythonhosted.org/packages/16/8a/1fc3dba0c4923c2a76e1ff0d52b305c44606da63f718d14d3231e21c51b0/s3transfer-0.2.1-py2.py3-none-any.whl (70kB)\n",
      "\u001b[K     |████████████████████████████████| 71kB 16.2MB/s eta 0:00:01\n",
      "\u001b[?25hRequirement already satisfied, skipping upgrade: python-dateutil<3.0.0,>=2.1; python_version >= \"2.7\" in /anaconda3/lib/python3.6/site-packages (from botocore<1.14.0,>=1.13.5->boto3->smart-open>=1.8.1->gensim) (2.7.3)\n",
      "Requirement already satisfied, skipping upgrade: docutils<0.16,>=0.10 in /anaconda3/lib/python3.6/site-packages (from botocore<1.14.0,>=1.13.5->boto3->smart-open>=1.8.1->gensim) (0.14)\n",
      "Building wheels for collected packages: smart-open\n",
      "  Building wheel for smart-open (setup.py) ... \u001b[?25ldone\n",
      "\u001b[?25h  Created wheel for smart-open: filename=smart_open-1.8.4-cp36-none-any.whl size=67369 sha256=d80b943988f742a8d9cba4a562141f96228caa86cf53cac8eca81db787622f88\n",
      "  Stored in directory: /Users/justinpassek/Library/Caches/pip/wheels/5f/ea/fb/5b1a947b369724063b2617011f1540c44eb00e28c3d2ca8692\n",
      "Successfully built smart-open\n",
      "Installing collected packages: jmespath, botocore, s3transfer, boto3, smart-open, gensim\n",
      "Successfully installed boto3-1.10.5 botocore-1.13.5 gensim-3.8.1 jmespath-0.9.4 s3transfer-0.2.1 smart-open-1.8.4\n",
      "\u001b[33mWARNING: You are using pip version 19.2.3, however version 19.3.1 is available.\n",
      "You should consider upgrading via the 'pip install --upgrade pip' command.\u001b[0m\n"
     ]
    }
   ],
   "source": [
    "import nltk\n",
    "nltk.download('wordnet')\n",
    "from nltk.corpus import wordnet as wn\n",
    "import pandas as pd\n",
    "import numpy as np\n",
    "from google.cloud import bigquery\n",
    "!pip install -U gensim\n",
    "#from gensim import corpora, models, similarities\n",
    "from collections import defaultdict\n",
    "import scipy"
   ]
  },
  {
   "cell_type": "code",
   "execution_count": 6,
   "metadata": {},
   "outputs": [
    {
     "name": "stdout",
     "output_type": "stream",
     "text": [
      "Collecting pyclustering.cluster.kmedoids\n",
      "\u001b[31m  ERROR: Could not find a version that satisfies the requirement pyclustering.cluster.kmedoids (from versions: none)\u001b[0m\n",
      "\u001b[31mERROR: No matching distribution found for pyclustering.cluster.kmedoids\u001b[0m\n",
      "\u001b[33mWARNING: You are using pip version 19.2.3, however version 19.3.1 is available.\n",
      "You should consider upgrading via the 'pip install --upgrade pip' command.\u001b[0m\n"
     ]
    },
    {
     "ename": "ModuleNotFoundError",
     "evalue": "No module named 'pyclustering'",
     "output_type": "error",
     "traceback": [
      "\u001b[0;31m---------------------------------------------------------------------------\u001b[0m",
      "\u001b[0;31mModuleNotFoundError\u001b[0m                       Traceback (most recent call last)",
      "\u001b[0;32m<ipython-input-6-a8f67e1bf274>\u001b[0m in \u001b[0;36m<module>\u001b[0;34m()\u001b[0m\n\u001b[1;32m      1\u001b[0m \u001b[0mget_ipython\u001b[0m\u001b[0;34m(\u001b[0m\u001b[0;34m)\u001b[0m\u001b[0;34m.\u001b[0m\u001b[0msystem\u001b[0m\u001b[0;34m(\u001b[0m\u001b[0;34m'pip install -U pyclustering.cluster.kmedoids import kmedoids'\u001b[0m\u001b[0;34m)\u001b[0m\u001b[0;34m\u001b[0m\u001b[0m\n\u001b[0;32m----> 2\u001b[0;31m \u001b[0;32mfrom\u001b[0m \u001b[0mpyclustering\u001b[0m\u001b[0;34m.\u001b[0m\u001b[0mcluster\u001b[0m\u001b[0;34m.\u001b[0m\u001b[0mkmedoids\u001b[0m \u001b[0;32mimport\u001b[0m \u001b[0mkmedoids\u001b[0m\u001b[0;34m\u001b[0m\u001b[0m\n\u001b[0m\u001b[1;32m      3\u001b[0m \u001b[0;32mfrom\u001b[0m \u001b[0mpyclustering\u001b[0m\u001b[0;34m.\u001b[0m\u001b[0mcluster\u001b[0m \u001b[0;32mimport\u001b[0m \u001b[0mcluster_visualizer\u001b[0m\u001b[0;34m\u001b[0m\u001b[0m\n",
      "\u001b[0;31mModuleNotFoundError\u001b[0m: No module named 'pyclustering'"
     ]
    }
   ],
   "source": [
    "!pip install -U pyclustering.cluster.kmedoids import kmedoids\n",
    "from pyclustering.cluster.kmedoids import kmedoids\n",
    "from pyclustering.cluster import cluster_visualizer"
   ]
  },
  {
   "cell_type": "code",
   "execution_count": 2,
   "metadata": {},
   "outputs": [
    {
     "name": "stdout",
     "output_type": "stream",
     "text": [
      "                     xx  Parallel  Material property      Text      Font  \\\n",
      "0              Parallel  1.000000           0.538816  0.125000  0.000000   \n",
      "1     Material property  0.538816           1.000000  0.359211  0.269408   \n",
      "2                  Text  0.125000           0.359211  1.000000  0.250000   \n",
      "3                  Font  0.000000           0.269408  0.250000  1.000000   \n",
      "4                Yellow  0.618718           0.317500  0.176777  0.176777   \n",
      "...                 ...       ...                ...       ...       ...   \n",
      "4029              Whale  0.670820           0.401610  0.223607  0.000000   \n",
      "4030            Bowhead  0.283473           0.339422  0.188982  0.188982   \n",
      "4031              Shout  0.000000           0.240966  0.223607  0.447214   \n",
      "4032   Carbonated water  0.472456           0.746729  0.377964  0.377964   \n",
      "4033  Projection screen  0.269408           0.580645  0.359211  0.449013   \n",
      "\n",
      "        Yellow  Photo caption  Cylinder  Furniture       Bag  ...  \\\n",
      "0     0.618718       0.163663  0.441942   0.208013  0.288675  ...   \n",
      "1     0.317500       0.509510  0.508001   0.547949  0.207390  ...   \n",
      "2     0.176777       0.218218  0.176777   0.277350  0.000000  ...   \n",
      "3     0.176777       0.654654  0.176777   0.416025  0.000000  ...   \n",
      "4     1.000000       0.231455  0.375000   0.098058  0.000000  ...   \n",
      "...        ...            ...       ...        ...       ...  ...   \n",
      "4029  0.474342       0.195180  0.316228   0.124035  0.258199  ...   \n",
      "4030  0.400892       0.412393  0.267261   0.104828  0.436436  ...   \n",
      "4031  0.158114       0.585540  0.000000   0.372104  0.000000  ...   \n",
      "4032  0.267261       0.494872  0.467707   0.471728  0.327327  ...   \n",
      "4033  0.317500       0.587896  0.508001   0.547949  0.000000  ...   \n",
      "\n",
      "      Horsehair crab  Crab boil  King crab  grey whale  Humpback whale  \\\n",
      "0           0.426401   0.452267   0.250000    0.577350        0.500000   \n",
      "1           0.689256   0.487377   0.419079    0.622171        0.449013   \n",
      "2           0.106600   0.000000   0.000000    0.288675        0.125000   \n",
      "3           0.106600   0.150756   0.166667    0.000000        0.000000   \n",
      "4           0.150756   0.319801   0.000000    0.510310        0.353553   \n",
      "...              ...        ...        ...         ...             ...   \n",
      "4029        0.381385   0.269680   0.149071    0.645497        0.559017   \n",
      "4030        0.402911   0.227921   0.125988    0.545545        0.472456   \n",
      "4031        0.190693   0.134840   0.000000    0.129099        0.223607   \n",
      "4032        0.684950   0.569803   0.503953    0.600099        0.519701   \n",
      "4033        0.612672   0.324918   0.478947    0.466628        0.269408   \n",
      "\n",
      "         Whale   Bowhead     Shout  Carbonated water  Projection screen  \n",
      "0     0.670820  0.283473  0.000000          0.472456           0.269408  \n",
      "1     0.401610  0.339422  0.240966          0.746729           0.580645  \n",
      "2     0.223607  0.188982  0.223607          0.377964           0.359211  \n",
      "3     0.000000  0.188982  0.447214          0.377964           0.449013  \n",
      "4     0.474342  0.400892  0.158114          0.267261           0.317500  \n",
      "...        ...       ...       ...               ...                ...  \n",
      "4029  1.000000  0.507093  0.200000          0.422577           0.240966  \n",
      "4030  0.507093  1.000000  0.338062          0.571429           0.339422  \n",
      "4031  0.200000  0.338062  1.000000          0.253546           0.240966  \n",
      "4032  0.422577  0.571429  0.253546          1.000000           0.577018  \n",
      "4033  0.240966  0.339422  0.240966          0.577018           1.000000  \n",
      "\n",
      "[4034 rows x 4035 columns]\n"
     ]
    }
   ],
   "source": [
    "# Upload\n",
    "\n",
    "datafile = \"/Users/justinpassek/Downloads/superout.csv\"\n",
    "df = pd.read_csv(datafile)\n",
    "\n",
    "print(df)"
   ]
  },
  {
   "cell_type": "code",
   "execution_count": 4,
   "metadata": {},
   "outputs": [
    {
     "name": "stdout",
     "output_type": "stream",
     "text": [
      "[['Parallel' 1.0 0.5388159060000001 ... 0.0 0.472455591\n",
      "  0.26940795300000003]\n",
      " ['Material property' 0.5388159060000001 1.0 ... 0.24096579899999998\n",
      "  0.746728657 0.580645161]\n",
      " ['Text' 0.125 0.359210604 ... 0.223606798 0.37796447299999997\n",
      "  0.359210604]\n",
      " ...\n",
      " ['Shout' 0.0 0.24096579899999998 ... 1.0 0.253546276 0.24096579899999998]\n",
      " ['Carbonated water' 0.472455591 0.746728657 ... 0.253546276 1.0\n",
      "  0.577017598]\n",
      " ['Projection screen' 0.26940795300000003 0.580645161 ...\n",
      "  0.24096579899999998 0.577017598 1.0]]\n"
     ]
    }
   ],
   "source": [
    "mat = np.array(df)\n",
    "print(mat)"
   ]
  },
  {
   "cell_type": "code",
   "execution_count": null,
   "metadata": {},
   "outputs": [],
   "source": []
  }
 ],
 "metadata": {
  "kernelspec": {
   "display_name": "Python 3",
   "language": "python",
   "name": "python3"
  },
  "language_info": {
   "codemirror_mode": {
    "name": "ipython",
    "version": 3
   },
   "file_extension": ".py",
   "mimetype": "text/x-python",
   "name": "python",
   "nbconvert_exporter": "python",
   "pygments_lexer": "ipython3",
   "version": "3.6.5"
  },
  "toc": {
   "base_numbering": 1,
   "nav_menu": {},
   "number_sections": true,
   "sideBar": true,
   "skip_h1_title": false,
   "title_cell": "Table of Contents",
   "title_sidebar": "Contents",
   "toc_cell": false,
   "toc_position": {},
   "toc_section_display": true,
   "toc_window_display": false
  }
 },
 "nbformat": 4,
 "nbformat_minor": 2
}
