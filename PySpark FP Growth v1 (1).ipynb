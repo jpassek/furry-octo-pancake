{
 "cells": [
  {
   "cell_type": "code",
   "execution_count": 6,
   "metadata": {},
   "outputs": [],
   "source": [
    "#Set up environment\n",
    "from pyspark.sql import *\n",
    "from pyspark.sql.types import *\n",
    "from pyspark.sql.functions import *\n",
    "from pyspark.sql import functions as F \n",
    "from pyspark.ml.fpm import FPGrowth\n",
    "from pyspark.sql.session import SparkSession\n",
    "import json\n",
    "#from pyspark.sql.functions import col, udf, array, collect_list, col\n",
    "\n",
    "# instantiate Spark\n",
    "spark = SparkSession.builder.getOrCreate()"
   ]
  },
  {
   "cell_type": "code",
   "execution_count": null,
   "metadata": {},
   "outputs": [],
   "source": [
    "#When working outside of GCP\n",
    "\n",
    "#sc_conf = SparkConf()\n",
    "#sc_conf.setAppName(\"testApp\") #// your spark application name\n",
    "#sc_conf.setMaster('local[*]') #// specify master to run on local mode\n",
    "#sc = pyspark.SparkContext(conf=sc_conf)\n",
    "#sc = SparkContext.getOrCreate(conf=conf)\n",
    "#sc = SparkContext.getOrCreate();"
   ]
  },
  {
   "cell_type": "code",
   "execution_count": 23,
   "metadata": {},
   "outputs": [],
   "source": [
    "#bigquery conf\n",
    "bucket = sc._jsc.hadoopConfiguration().get('fs.gs.system.bucket')\n",
    "project = sc._jsc.hadoopConfiguration().get('fs.gs.project.id')\n",
    "input_directory = 'gs://{}/hadoop/tmp/bigquery/pyspark_input_v8'.format(bucket)\n",
    "\n",
    "conf = {\n",
    "    'mapred.bq.project.id': project,\n",
    "    'mapred.bq.gcs.bucket': bucket,\n",
    "    'mapred.bq.temp.gcs.path': input_directory,\n",
    "    'mapred.bq.input.project.id': 'sauron-230322',\n",
    "    'mapred.bq.input.dataset.id': 'oculi_30602',\n",
    "    'mapred.bq.input.table.id': 'Spark_Label_Modeling_V3'}"
   ]
  },
  {
   "cell_type": "code",
   "execution_count": null,
   "metadata": {},
   "outputs": [],
   "source": [
    "#Loading Data from BQ table\n",
    "table_data = sc.newAPIHadoopRDD(\n",
    "    'com.google.cloud.hadoop.io.bigquery.JsonTextBigQueryInputFormat',\n",
    "    'org.apache.hadoop.io.LongWritable',\n",
    "    'com.google.gson.JsonObject',\n",
    "    conf=conf)"
   ]
  },
  {
   "cell_type": "code",
   "execution_count": 26,
   "metadata": {},
   "outputs": [],
   "source": [
    "#Providing SQL context for a flat table with headers/converting\n",
    "sql_context = SQLContext(sc)\n",
    "wordT = table_data.map(lambda x : x[1])\n",
    "tableDf=sql_context.read.json(wordT)"
   ]
  },
  {
   "cell_type": "code",
   "execution_count": 27,
   "metadata": {},
   "outputs": [
    {
     "name": "stdout",
     "output_type": "stream",
     "text": [
      "+-----------+-------------+\n",
      "|creative_id|       labels|\n",
      "+-----------+-------------+\n",
      "|   57587813|         Blue|\n",
      "|   57587813|        Azure|\n",
      "|   57587813|Electric blue|\n",
      "|   57587813|      Company|\n",
      "|   57834875|       Purple|\n",
      "|   58335520|         Blue|\n",
      "|   58335520|        Azure|\n",
      "|   58385205|Electric blue|\n",
      "|   58481230|         Blue|\n",
      "|   58481230|        Azure|\n",
      "|   58481230|Electric blue|\n",
      "|   58481331|  Cobalt blue|\n",
      "|   58481331|         Blue|\n",
      "|   58481331|          Sky|\n",
      "|   58481331|      Daytime|\n",
      "|   58481331|         Aqua|\n",
      "|   58481331|        Green|\n",
      "|   58481331|Electric blue|\n",
      "|   58481331|        Black|\n",
      "|   58481331|   Atmosphere|\n",
      "+-----------+-------------+\n",
      "only showing top 20 rows\n",
      "\n"
     ]
    }
   ],
   "source": [
    "tableDf.show()"
   ]
  },
  {
   "cell_type": "code",
   "execution_count": 28,
   "metadata": {},
   "outputs": [
    {
     "name": "stdout",
     "output_type": "stream",
     "text": [
      "+-----------+--------------------+\n",
      "|creative_id| collect_set(labels)|\n",
      "+-----------+--------------------+\n",
      "|  100078767|[Sport utility ve...|\n",
      "|  100333935|     [Electric blue]|\n",
      "|  100364801|[Kia motors, Mode...|\n",
      "|  100380453|            [Yellow]|\n",
      "|  100421201|[Automotive exter...|\n",
      "|  100576531|[Sport utility ve...|\n",
      "|  100664780| [Trademark, Yellow]|\n",
      "|  100728693|[Mid-size car, Ki...|\n",
      "|  100754996|[Cat, Whiskers, P...|\n",
      "|  100853868|    [Graphic design]|\n",
      "|  100918417|[Sport utility ve...|\n",
      "|  100971229|[Sky, Real estate...|\n",
      "|  100997898|[Mazda, Product, ...|\n",
      "|  101076007|[Blue, Aqua, Turq...|\n",
      "|  101248228|     [T-shirt, Skin]|\n",
      "|  101416455|[Product, Gmc env...|\n",
      "|  101453206|[Purple, Pink, Re...|\n",
      "|  101463612|[Engineering, Water]|\n",
      "|  101507357|[Family car, Spor...|\n",
      "|  101550788|[Shoe, Product, C...|\n",
      "+-----------+--------------------+\n",
      "only showing top 20 rows\n",
      "\n"
     ]
    }
   ],
   "source": [
    "# Create dataframe for FPGrowth model input\n",
    "labelsets = tableDf.groupBy(\"creative_id\")\\\n",
    "      .agg(F.collect_set(\"labels\"))\n",
    "\n",
    "labelsets.show()"
   ]
  },
  {
   "cell_type": "code",
   "execution_count": 38,
   "metadata": {},
   "outputs": [],
   "source": [
    "fpGrowth = FPGrowth(itemsCol=\"collect_set(labels)\", minSupport=0.01, minConfidence=0.5)"
   ]
  },
  {
   "cell_type": "code",
   "execution_count": 39,
   "metadata": {},
   "outputs": [],
   "source": [
    "model = fpGrowth.fit(labelsets)"
   ]
  },
  {
   "cell_type": "code",
   "execution_count": 40,
   "metadata": {},
   "outputs": [
    {
     "name": "stdout",
     "output_type": "stream",
     "text": [
      "+--------------------+-----+\n",
      "|               items| freq|\n",
      "+--------------------+-----+\n",
      "|     [Motor vehicle]|18845|\n",
      "|      [Land vehicle]|18605|\n",
      "|[Land vehicle, Mo...|10556|\n",
      "| [Automotive design]|17512|\n",
      "|[Automotive desig...|12070|\n",
      "|[Automotive desig...| 7354|\n",
      "|[Automotive desig...|11869|\n",
      "|           [Product]|14782|\n",
      "|[Product, Automot...| 3542|\n",
      "|[Product, Automot...| 1979|\n",
      "|[Product, Automot...| 1332|\n",
      "|[Product, Automot...| 2626|\n",
      "|[Product, Land ve...| 3194|\n",
      "|[Product, Land ve...| 2107|\n",
      "|[Product, Motor v...| 4254|\n",
      "|[Automotive exter...|14619|\n",
      "|[Automotive exter...| 8565|\n",
      "|[Automotive exter...| 4712|\n",
      "|[Automotive exter...| 3211|\n",
      "|[Automotive exter...| 6552|\n",
      "+--------------------+-----+\n",
      "only showing top 20 rows\n",
      "\n",
      "+--------------------+--------------------+------------------+\n",
      "|          antecedent|          consequent|        confidence|\n",
      "+--------------------+--------------------+------------------+\n",
      "|             [Table]|         [Furniture]|0.9377027903958468|\n",
      "|             [Table]|              [Room]|0.7300454250486696|\n",
      "|[Crossover suv, A...|      [Land vehicle]|0.8772727272727273|\n",
      "|[Crossover suv, A...|     [Motor vehicle]|0.5251515151515151|\n",
      "|[Crossover suv, A...|[Sport utility ve...|0.8793939393939394|\n",
      "|[Executive car, M...| [Automotive design]|0.7268689859363434|\n",
      "|[Sedan, Automotiv...|      [Land vehicle]|   0.8930256948086|\n",
      "|[Sedan, Automotiv...|      [Mid-size car]|0.9281594126900892|\n",
      "|[Mini SUV, Crosso...|[Sport utility ve...|0.9923728813559322|\n",
      "|     [Motor vehicle]|      [Land vehicle]|0.5601485805253383|\n",
      "|     [Motor vehicle]| [Automotive design]|0.6298222340143274|\n",
      "|     [Motor vehicle]|[Automotive exter...|0.5557972937118599|\n",
      "|[Truck bed part, ...|     [Motor vehicle]|0.9218071242397915|\n",
      "|[Full-size car, M...|             [Sedan]|0.5535714285714286|\n",
      "|[Full-size car, M...| [Automotive design]|0.7557603686635944|\n",
      "|[Sport utility ve...| [Automotive design]|0.5993121238177128|\n",
      "|[Sport utility ve...|      [Land vehicle]|0.6927486385783892|\n",
      "|[Sport utility ve...|     [Motor vehicle]|0.6546288334766409|\n",
      "|[Crossover suv, S...|      [Land vehicle]|0.8855961405926946|\n",
      "|[Crossover suv, S...|     [Motor vehicle]|0.5196416264645073|\n",
      "+--------------------+--------------------+------------------+\n",
      "only showing top 20 rows\n",
      "\n",
      "+-----------+--------------------+--------------------+\n",
      "|creative_id| collect_set(labels)|          prediction|\n",
      "+-----------+--------------------+--------------------+\n",
      "|  100078767|[Sport utility ve...|[Motor vehicle, C...|\n",
      "|  100333935|     [Electric blue]|                  []|\n",
      "|  100364801|[Kia motors, Mode...|[Land vehicle, Au...|\n",
      "|  100380453|            [Yellow]|                  []|\n",
      "|  100421201|[Automotive exter...|[Land vehicle, Au...|\n",
      "|  100576531|[Sport utility ve...|[Automotive desig...|\n",
      "|  100664780| [Trademark, Yellow]|                  []|\n",
      "|  100728693|[Mid-size car, Ki...|[Automotive exter...|\n",
      "|  100754996|[Cat, Whiskers, P...|                  []|\n",
      "|  100853868|    [Graphic design]|                  []|\n",
      "|  100918417|[Sport utility ve...|[Automotive desig...|\n",
      "|  100971229|[Sky, Real estate...|[Property, Home, ...|\n",
      "|  100997898|[Mazda, Product, ...|[Sport utility ve...|\n",
      "|  101076007|[Blue, Aqua, Turq...|     [Electric blue]|\n",
      "|  101248228|     [T-shirt, Skin]|                  []|\n",
      "|  101416455|[Product, Gmc env...|[Automotive desig...|\n",
      "|  101453206|[Purple, Pink, Re...|            [Violet]|\n",
      "|  101463612|[Engineering, Water]|                  []|\n",
      "|  101507357|[Family car, Spor...|[Automotive desig...|\n",
      "|  101550788|[Shoe, Product, C...|                  []|\n",
      "+-----------+--------------------+--------------------+\n",
      "only showing top 20 rows\n",
      "\n"
     ]
    }
   ],
   "source": [
    "# Display frequent itemsets.\n",
    "model.freqItemsets.show()\n",
    "\n",
    "# Display generated association rules.\n",
    "model.associationRules.show()\n",
    "\n",
    "# transform examines the input items against all the association rules and summarize the\n",
    "# consequents as prediction\n",
    "model.transform(labelsets).show()"
   ]
  },
  {
   "cell_type": "code",
   "execution_count": null,
   "metadata": {},
   "outputs": [],
   "source": []
  }
 ],
 "metadata": {
  "kernelspec": {
   "display_name": "PySpark",
   "language": "python",
   "name": "pyspark"
  },
  "language_info": {
   "codemirror_mode": {
    "name": "ipython",
    "version": 2
   },
   "file_extension": ".py",
   "mimetype": "text/x-python",
   "name": "python",
   "nbconvert_exporter": "python",
   "pygments_lexer": "ipython2",
   "version": "2.7.14"
  }
 },
 "nbformat": 4,
 "nbformat_minor": 2
}
