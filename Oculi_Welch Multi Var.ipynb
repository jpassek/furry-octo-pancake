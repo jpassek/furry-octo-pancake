{
 "cells": [
  {
   "cell_type": "code",
   "execution_count": 1,
   "metadata": {},
   "outputs": [],
   "source": [
    "import pandas as pd\n",
    "from scipy import stats"
   ]
  },
  {
   "cell_type": "code",
   "execution_count": 2,
   "metadata": {},
   "outputs": [],
   "source": [
    "datafile = \"/Users/justinpassek/Downloads/FaceNoFace.csv\"\n",
    "Face_Detection = pd.read_csv(datafile)"
   ]
  },
  {
   "cell_type": "code",
   "execution_count": 3,
   "metadata": {},
   "outputs": [],
   "source": [
    "Face = Face_Detection[Face_Detection.Face_Detection == \"Face\"]\n",
    "No_Face = Face_Detection[Face_Detection.Face_Detection == \"No_Face\"]"
   ]
  },
  {
   "cell_type": "code",
   "execution_count": 4,
   "metadata": {},
   "outputs": [
    {
     "data": {
      "text/plain": [
       "Ttest_indResult(statistic=-6.955187721239211, pvalue=4.589376676099495e-12)"
      ]
     },
     "execution_count": 4,
     "metadata": {},
     "output_type": "execute_result"
    }
   ],
   "source": [
    "stats.ttest_ind(\n",
    "    Face_Detection.Adjusted_Viewable_CTR,\n",
    "    Face.Adjusted_Viewable_CTR,\n",
    "    equal_var = False)"
   ]
  },
  {
   "cell_type": "code",
   "execution_count": 4,
   "metadata": {},
   "outputs": [
    {
     "data": {
      "text/plain": [
       "Ttest_indResult(statistic=-0.9323494270735395, pvalue=0.3511582952244612)"
      ]
     },
     "execution_count": 4,
     "metadata": {},
     "output_type": "execute_result"
    }
   ],
   "source": [
    "stats.ttest_ind(\n",
    "    Face_Detection.Adjusted_Viewable_CTR,\n",
    "    No_Face.Adjusted_Viewable_CTR,\n",
    "    equal_var = False)"
   ]
  },
  {
   "cell_type": "code",
   "execution_count": 5,
   "metadata": {},
   "outputs": [
    {
     "data": {
      "text/plain": [
       "Ttest_indResult(statistic=7.3241042201709625, pvalue=3.289645173814931e-13)"
      ]
     },
     "execution_count": 5,
     "metadata": {},
     "output_type": "execute_result"
    }
   ],
   "source": [
    "stats.ttest_ind(\n",
    "    Face.Adjusted_Viewable_CTR,\n",
    "    No_Face.Adjusted_Viewable_CTR,\n",
    "    equal_var = False)"
   ]
  },
  {
   "cell_type": "code",
   "execution_count": 31,
   "metadata": {},
   "outputs": [],
   "source": [
    "#read file\n",
    "datafile = \"/Users/justinpassek/Downloads/Kabbage-results-20190530-Color_Label.csv\"\n",
    "Color_Label = pd.read_csv(datafile)"
   ]
  },
  {
   "cell_type": "code",
   "execution_count": 12,
   "metadata": {},
   "outputs": [],
   "source": [
    "#unique label buckets\n",
    "labels = Color_Label.Color_Label.unique()"
   ]
  },
  {
   "cell_type": "code",
   "execution_count": 32,
   "metadata": {},
   "outputs": [],
   "source": [
    "#create label buckets\n",
    "Blue = Color_Label[Color_Label.Color_Label == \"Blue\"]\n",
    "White = Color_Label[Color_Label.Color_Label == \"White\"]\n",
    "Yellow = Color_Label[Color_Label.Color_Label == \"Yellow\"]\n",
    "Aqua = Color_Label[Color_Label.Color_Label == \"Aqua\"]\n",
    "Turquoise = Color_Label[Color_Label.Color_Label == \"Turquoise\"]\n",
    "Green = Color_Label[Color_Label.Color_Label == \"Green\"]"
   ]
  },
  {
   "cell_type": "code",
   "execution_count": 37,
   "metadata": {},
   "outputs": [
    {
     "data": {
      "text/plain": [
       "Ttest_indResult(statistic=-0.2225849657705525, pvalue=0.8240539397016443)"
      ]
     },
     "execution_count": 37,
     "metadata": {},
     "output_type": "execute_result"
    }
   ],
   "source": [
    "stats.ttest_ind(\n",
    "    Face_Detection.Adjusted_Viewable_CTR,\n",
    "    Blue.Adjusted_Viewable_CTR,\n",
    "    equal_var = False)"
   ]
  },
  {
   "cell_type": "code",
   "execution_count": 36,
   "metadata": {},
   "outputs": [
    {
     "data": {
      "text/plain": [
       "Ttest_indResult(statistic=-0.5653567027506343, pvalue=0.5851882968988273)"
      ]
     },
     "execution_count": 36,
     "metadata": {},
     "output_type": "execute_result"
    }
   ],
   "source": [
    "stats.ttest_ind(\n",
    "    Face_Detection.Adjusted_Viewable_CTR,\n",
    "    White.Adjusted_Viewable_CTR,\n",
    "    equal_var = False)"
   ]
  },
  {
   "cell_type": "code",
   "execution_count": 38,
   "metadata": {},
   "outputs": [
    {
     "data": {
      "text/plain": [
       "Ttest_indResult(statistic=-0.9134975058823781, pvalue=0.36916563379832545)"
      ]
     },
     "execution_count": 38,
     "metadata": {},
     "output_type": "execute_result"
    }
   ],
   "source": [
    "stats.ttest_ind(\n",
    "    Face_Detection.Adjusted_Viewable_CTR,\n",
    "    Yellow.Adjusted_Viewable_CTR,\n",
    "    equal_var = False)"
   ]
  },
  {
   "cell_type": "code",
   "execution_count": 39,
   "metadata": {},
   "outputs": [
    {
     "data": {
      "text/plain": [
       "Ttest_indResult(statistic=-1.543192590194292, pvalue=0.12810977564903583)"
      ]
     },
     "execution_count": 39,
     "metadata": {},
     "output_type": "execute_result"
    }
   ],
   "source": [
    "stats.ttest_ind(\n",
    "    Face_Detection.Adjusted_Viewable_CTR,\n",
    "    Aqua.Adjusted_Viewable_CTR,\n",
    "    equal_var = False)"
   ]
  },
  {
   "cell_type": "code",
   "execution_count": 40,
   "metadata": {},
   "outputs": [
    {
     "data": {
      "text/plain": [
       "Ttest_indResult(statistic=-3.7951549445339854, pvalue=0.0050245031605822416)"
      ]
     },
     "execution_count": 40,
     "metadata": {},
     "output_type": "execute_result"
    }
   ],
   "source": [
    "stats.ttest_ind(\n",
    "    Face_Detection.Adjusted_Viewable_CTR,\n",
    "    Turquoise.Adjusted_Viewable_CTR,\n",
    "    equal_var = False)"
   ]
  },
  {
   "cell_type": "code",
   "execution_count": 41,
   "metadata": {},
   "outputs": [
    {
     "data": {
      "text/plain": [
       "Ttest_indResult(statistic=0.06408102186902016, pvalue=0.9489238733414207)"
      ]
     },
     "execution_count": 41,
     "metadata": {},
     "output_type": "execute_result"
    }
   ],
   "source": [
    "stats.ttest_ind(\n",
    "    Face_Detection.Adjusted_Viewable_CTR,\n",
    "    Green.Adjusted_Viewable_CTR,\n",
    "    equal_var = False)"
   ]
  },
  {
   "cell_type": "code",
   "execution_count": 5,
   "metadata": {},
   "outputs": [],
   "source": [
    "datafile = \"/Users/justinpassek/Downloads/JoyNonJoy.csv\"\n",
    "Joy_Detection = pd.read_csv(datafile)"
   ]
  },
  {
   "cell_type": "code",
   "execution_count": 6,
   "metadata": {},
   "outputs": [],
   "source": [
    "Joy = Joy_Detection[Joy_Detection.Joy_Detection == \"Joy apparent\"]\n",
    "No_Joy = Joy_Detection[Joy_Detection.Joy_Detection == \"Joy absent\"]"
   ]
  },
  {
   "cell_type": "code",
   "execution_count": 48,
   "metadata": {},
   "outputs": [
    {
     "data": {
      "text/plain": [
       "Ttest_indResult(statistic=-0.07182361399721535, pvalue=0.9428702381061064)"
      ]
     },
     "execution_count": 48,
     "metadata": {},
     "output_type": "execute_result"
    }
   ],
   "source": [
    "stats.ttest_ind(\n",
    "    Joy_Detection.Adjusted_Viewable_CTR,\n",
    "    Joy.Adjusted_Viewable_CTR,\n",
    "    equal_var = False)"
   ]
  },
  {
   "cell_type": "code",
   "execution_count": 24,
   "metadata": {},
   "outputs": [
    {
     "data": {
      "text/plain": [
       "Ttest_indResult(statistic=0.07038324995274015, pvalue=0.9440987592248326)"
      ]
     },
     "execution_count": 24,
     "metadata": {},
     "output_type": "execute_result"
    }
   ],
   "source": [
    "stats.ttest_ind(\n",
    "    Joy_Detection.Adjusted_Viewable_CTR,\n",
    "    No_Joy.Adjusted_Viewable_CTR,\n",
    "    equal_var = False)"
   ]
  },
  {
   "cell_type": "code",
   "execution_count": 7,
   "metadata": {},
   "outputs": [
    {
     "data": {
      "text/plain": [
       "Ttest_indResult(statistic=-25.511250079711154, pvalue=2.0150266194826273e-101)"
      ]
     },
     "execution_count": 7,
     "metadata": {},
     "output_type": "execute_result"
    }
   ],
   "source": [
    "stats.ttest_ind(\n",
    "    Joy.Adjusted_Viewable_CTR,\n",
    "    No_Joy.Adjusted_Viewable_CTR,\n",
    "    equal_var = False)"
   ]
  },
  {
   "cell_type": "code",
   "execution_count": 8,
   "metadata": {},
   "outputs": [],
   "source": [
    "datafile = \"/Users/justinpassek/Downloads/SingleMultiple.csv\"\n",
    "face_count_bucket = pd.read_csv(datafile)"
   ]
  },
  {
   "cell_type": "code",
   "execution_count": 9,
   "metadata": {},
   "outputs": [],
   "source": [
    "Single = face_count_bucket[face_count_bucket.face_count_bucket == \"Single\"]\n",
    "Multiple = face_count_bucket[face_count_bucket.face_count_bucket == \"Multiple\"]"
   ]
  },
  {
   "cell_type": "code",
   "execution_count": 60,
   "metadata": {},
   "outputs": [
    {
     "data": {
      "text/plain": [
       "Ttest_indResult(statistic=0.317839159417509, pvalue=0.7510949803388591)"
      ]
     },
     "execution_count": 60,
     "metadata": {},
     "output_type": "execute_result"
    }
   ],
   "source": [
    "stats.ttest_ind(\n",
    "    face_count_bucket.Adjusted_Viewable_CTR,\n",
    "    Single.Adjusted_Viewable_CTR,\n",
    "    equal_var = False)"
   ]
  },
  {
   "cell_type": "code",
   "execution_count": 61,
   "metadata": {},
   "outputs": [
    {
     "data": {
      "text/plain": [
       "Ttest_indResult(statistic=-0.7255497185099069, pvalue=0.48237068675377814)"
      ]
     },
     "execution_count": 61,
     "metadata": {},
     "output_type": "execute_result"
    }
   ],
   "source": [
    "stats.ttest_ind(\n",
    "    face_count_bucket.Adjusted_Viewable_CTR,\n",
    "    Multiple.Adjusted_Viewable_CTR,\n",
    "    equal_var = False)"
   ]
  },
  {
   "cell_type": "code",
   "execution_count": 10,
   "metadata": {},
   "outputs": [
    {
     "data": {
      "text/plain": [
       "Ttest_indResult(statistic=19.566283348938853, pvalue=4.3928620605459093e-72)"
      ]
     },
     "execution_count": 10,
     "metadata": {},
     "output_type": "execute_result"
    }
   ],
   "source": [
    "stats.ttest_ind(\n",
    "    Single.Adjusted_Viewable_CTR,\n",
    "    Multiple.Adjusted_Viewable_CTR,\n",
    "    equal_var = False)"
   ]
  },
  {
   "cell_type": "code",
   "execution_count": 14,
   "metadata": {},
   "outputs": [],
   "source": [
    "datafile = \"/Users/justinpassek/Downloads/BedNoBed.csv\"\n",
    "Label_Detection = pd.read_csv(datafile)"
   ]
  },
  {
   "cell_type": "code",
   "execution_count": 15,
   "metadata": {},
   "outputs": [],
   "source": [
    "Bed = Label_Detection[Label_Detection.Label_Detection == \"Bed\"]\n",
    "No_Bed = Label_Detection[Label_Detection.Label_Detection == \"No Bed\"]"
   ]
  },
  {
   "cell_type": "code",
   "execution_count": 64,
   "metadata": {},
   "outputs": [
    {
     "data": {
      "text/plain": [
       "Ttest_indResult(statistic=4.083293189518235, pvalue=5.321294661133529e-05)"
      ]
     },
     "execution_count": 64,
     "metadata": {},
     "output_type": "execute_result"
    }
   ],
   "source": [
    "stats.ttest_ind(\n",
    "    Phone_Detection.Adjusted_Viewable_CTR,\n",
    "    Phone.Adjusted_Viewable_CTR,\n",
    "    equal_var = False)"
   ]
  },
  {
   "cell_type": "code",
   "execution_count": 65,
   "metadata": {},
   "outputs": [
    {
     "data": {
      "text/plain": [
       "Ttest_indResult(statistic=-0.09278933647851756, pvalue=0.9260898295847636)"
      ]
     },
     "execution_count": 65,
     "metadata": {},
     "output_type": "execute_result"
    }
   ],
   "source": [
    "stats.ttest_ind(\n",
    "    Phone_Detection.Adjusted_Viewable_CTR,\n",
    "    No_Phone.Adjusted_Viewable_CTR,\n",
    "    equal_var = False)"
   ]
  },
  {
   "cell_type": "code",
   "execution_count": 16,
   "metadata": {},
   "outputs": [
    {
     "data": {
      "text/plain": [
       "Ttest_indResult(statistic=-19.453430100769946, pvalue=2.852266182894402e-82)"
      ]
     },
     "execution_count": 16,
     "metadata": {},
     "output_type": "execute_result"
    }
   ],
   "source": [
    "stats.ttest_ind(\n",
    "    Bed.Adjusted_Viewable_CTR,\n",
    "    No_Bed.Adjusted_Viewable_CTR,\n",
    "    equal_var = False)"
   ]
  },
  {
   "cell_type": "code",
   "execution_count": 2,
   "metadata": {},
   "outputs": [],
   "source": [
    "datafile = \"/Users/justinpassek/Downloads/Kabbage-results-20190530-Job_Detection.csv\"\n",
    "Job_Detection = pd.read_csv(datafile)"
   ]
  },
  {
   "cell_type": "code",
   "execution_count": 5,
   "metadata": {},
   "outputs": [],
   "source": [
    "Job = Job_Detection[Job_Detection.Job_Detection == \"Job\"]\n",
    "No_job = Job_Detection[Job_Detection.Job_Detection == \"No job\"]"
   ]
  },
  {
   "cell_type": "code",
   "execution_count": 6,
   "metadata": {},
   "outputs": [
    {
     "name": "stdout",
     "output_type": "stream",
     "text": [
      "     Creative_ID  Campaign_id Job_Detection  Impressions  Clicks  \\\n",
      "0      104046673     21026208        No job         4200      12   \n",
      "1      104046679     21026208        No job         3059       6   \n",
      "2      104173228     21026208        No job         5118       4   \n",
      "3      104173855     21026208        No job         4984      10   \n",
      "4      104184654     21026208        No job        89457     174   \n",
      "5      104271230     21026208        No job        37451      38   \n",
      "6      105513534     21026208        No job        74912      56   \n",
      "7      105570677     21026208        No job        74101      42   \n",
      "8      105571583     21026208        No job        77360      51   \n",
      "9      100335976     21026208        No job         1307       4   \n",
      "10     100335982     21026208        No job        15793      28   \n",
      "11     100335988     21026208        No job       625614     525   \n",
      "12     105667886     21026208        No job         2858       2   \n",
      "13     105667892     21026208        No job         6352       4   \n",
      "14     105953224     21026208        No job        26221      12   \n",
      "15     105952196     21026208        No job        25812       9   \n",
      "16     105669960     21026208        No job        75084      44   \n",
      "17     104183251     21026208        No job         2998       2   \n",
      "18     104181334     21026208        No job         2483       2   \n",
      "19     104181340     21026208        No job        27036      53   \n",
      "20     104192739     21026208        No job        18053      21   \n",
      "21     105885977     21026208        No job        77046      43   \n",
      "22     105903291     21026208        No job         9246       5   \n",
      "23     105903306     21026208        No job         9184       7   \n",
      "24     105903429     21026208        No job       617148     347   \n",
      "25     105952361     21026208        No job        20274      19   \n",
      "26     105954365     21026208        No job        20556      15   \n",
      "27     105669231     21026208        No job        74383      41   \n",
      "28     105708916     21026208        No job        74338      43   \n",
      "29     105903429     22628048        No job       149388      68   \n",
      "..           ...          ...           ...          ...     ...   \n",
      "424    101839996     21110663        No job       146324      89   \n",
      "425    101510492     21110663        No job        45910      22   \n",
      "426    102386738     21110663        No job         1906      17   \n",
      "427    104044888     21026208        No job         6821       7   \n",
      "428    104173861     21026208        No job        64435      93   \n",
      "429    105653263     21026208        No job         6649       6   \n",
      "430    104731912     21026208        No job         9409      13   \n",
      "431    104847113     21026208        No job         8422       8   \n",
      "432    104178070     21026208        No job        32270      42   \n",
      "433    104178070     22603785        No job         9258       9   \n",
      "434    102235185     21110663        No job          583       6   \n",
      "435    102398876     21026208        No job       657337     821   \n",
      "436    104749695     21026208        No job         2976       8   \n",
      "437    100429520     21026208        No job      1537011    2147   \n",
      "438    105616149     21026208        No job       383534     386   \n",
      "439    102279280     21026208        No job       399379     606   \n",
      "440    110319590     21026208        No job       184631     385   \n",
      "441    110231062     21026208        No job       185443     387   \n",
      "442    113170949     22385514        No job         6496      19   \n",
      "443    113125761     22385514        No job         6774      15   \n",
      "444    113127957     22385514        No job         6398      23   \n",
      "445    113170946     22385514        No job         6557      23   \n",
      "446    102398876     22628048        No job        61225      44   \n",
      "447    100429520     22628048        No job        61278      52   \n",
      "448    105616149     22628048        No job        61480      56   \n",
      "449    110319590     22628048        No job        51456      93   \n",
      "450    110231062     22628048        No job        51854      89   \n",
      "451    102398876     22603785        No job         3413       4   \n",
      "452    100429520     22603785        No job         3273       6   \n",
      "453    101265874     21110663        No job       156447     219   \n",
      "\n",
      "     Active_View__Viewable_Impressions  Active_View__Eligible_Impressions  \\\n",
      "0                                 2198                               3915   \n",
      "1                                 1373                               3059   \n",
      "2                                 3702                               5118   \n",
      "3                                 3620                               4959   \n",
      "4                                70772                              89271   \n",
      "5                                29119                              37441   \n",
      "6                                58561                              74909   \n",
      "7                                57884                              74100   \n",
      "8                                60243                              77359   \n",
      "9                                  843                               1307   \n",
      "10                               11429                              15486   \n",
      "11                              495306                             625601   \n",
      "12                                2252                               2856   \n",
      "13                                5018                               6352   \n",
      "14                               19636                              26218   \n",
      "15                               19286                              25811   \n",
      "16                               58441                              75083   \n",
      "17                                1086                               2997   \n",
      "18                                1674                               2480   \n",
      "19                               20622                              26938   \n",
      "20                               12921                              18053   \n",
      "21                               59755                              77044   \n",
      "22                                7105                               9245   \n",
      "23                                7089                               9184   \n",
      "24                              462012                             617145   \n",
      "25                               15672                              20274   \n",
      "26                               15964                              20556   \n",
      "27                               57919                              74381   \n",
      "28                               57914                              74335   \n",
      "29                              120782                             149388   \n",
      "..                                 ...                                ...   \n",
      "424                             107675                             146219   \n",
      "425                              33283                              45898   \n",
      "426                                 16                                197   \n",
      "427                               2922                               6805   \n",
      "428                              45669                              64435   \n",
      "429                               5126                               6649   \n",
      "430                               5968                               9390   \n",
      "431                               5366                               8417   \n",
      "432                              21247                              32259   \n",
      "433                               5972                               9257   \n",
      "434                                115                                533   \n",
      "435                             501897                             657233   \n",
      "436                               2197                               2976   \n",
      "437                            1172489                            1536859   \n",
      "438                             292176                             383530   \n",
      "439                             305202                             399266   \n",
      "440                             131666                             184630   \n",
      "441                             132010                             185443   \n",
      "442                               3463                               6496   \n",
      "443                               3612                               6774   \n",
      "444                               3506                               6398   \n",
      "445                               3547                               6557   \n",
      "446                              46711                              61222   \n",
      "447                              46782                              61272   \n",
      "448                              46897                              61475   \n",
      "449                              37449                              51456   \n",
      "450                              37533                              51854   \n",
      "451                               2447                               3413   \n",
      "452                               2386                               3273   \n",
      "453                             118552                             156439   \n",
      "\n",
      "     Active_View__Measurable_Impressions  Adjusted_Viewable_CTR  \n",
      "0                                   3637               0.004728  \n",
      "1                                   2983               0.004261  \n",
      "2                                   5104               0.001078  \n",
      "3                                   4940               0.002738  \n",
      "4                                  88975               0.002445  \n",
      "5                                  37346               0.001301  \n",
      "6                                  74783               0.000955  \n",
      "7                                  73976               0.000724  \n",
      "8                                  77223               0.000845  \n",
      "9                                   1289               0.004680  \n",
      "10                                 15213               0.002360  \n",
      "11                                624214               0.001058  \n",
      "12                                  2840               0.000883  \n",
      "13                                  6327               0.000794  \n",
      "14                                 26102               0.000608  \n",
      "15                                 25730               0.000465  \n",
      "16                                 74935               0.000751  \n",
      "17                                  2842               0.001746  \n",
      "18                                  2465               0.001186  \n",
      "19                                 26748               0.002543  \n",
      "20                                 17980               0.001619  \n",
      "21                                 76892               0.000718  \n",
      "22                                  9234               0.000703  \n",
      "23                                  9169               0.000986  \n",
      "24                                614710               0.000748  \n",
      "25                                 20215               0.001209  \n",
      "26                                 20504               0.000937  \n",
      "27                                 74235               0.000706  \n",
      "28                                 74206               0.000741  \n",
      "29                                149087               0.000562  \n",
      "..                                   ...                    ...  \n",
      "424                               143882               0.000813  \n",
      "425                                45179               0.000650  \n",
      "426                                  174               0.096996  \n",
      "427                                 6644               0.002333  \n",
      "428                                64262               0.002031  \n",
      "429                                 6620               0.001165  \n",
      "430                                 9292               0.002151  \n",
      "431                                 8339               0.001476  \n",
      "432                                32137               0.001969  \n",
      "433                                 9240               0.001504  \n",
      "434                                  439               0.039287  \n",
      "435                               652185               0.001623  \n",
      "436                                 2975               0.003640  \n",
      "437                              1528494               0.001821  \n",
      "438                               382444               0.001317  \n",
      "439                               394818               0.001963  \n",
      "440                               184302               0.002919  \n",
      "441                               185126               0.002927  \n",
      "442                                 6485               0.005477  \n",
      "443                                 6762               0.004145  \n",
      "444                                 6384               0.006546  \n",
      "445                                 6541               0.006469  \n",
      "446                                61049               0.000939  \n",
      "447                                61101               0.001108  \n",
      "448                                61346               0.001192  \n",
      "449                                51388               0.002480  \n",
      "450                                51775               0.002368  \n",
      "451                                 3404               0.001630  \n",
      "452                                 3267               0.002510  \n",
      "453                               154808               0.001828  \n",
      "\n",
      "[454 rows x 9 columns]\n"
     ]
    }
   ],
   "source": [
    "print (No_job)"
   ]
  },
  {
   "cell_type": "code",
   "execution_count": 7,
   "metadata": {},
   "outputs": [
    {
     "data": {
      "text/plain": [
       "Ttest_indResult(statistic=-0.21555150116245253, pvalue=0.8293844692153236)"
      ]
     },
     "execution_count": 7,
     "metadata": {},
     "output_type": "execute_result"
    }
   ],
   "source": [
    "stats.ttest_ind(\n",
    "    Job_Detection.Adjusted_Viewable_CTR,\n",
    "    No_job.Adjusted_Viewable_CTR,\n",
    "    equal_var = False)"
   ]
  },
  {
   "cell_type": "code",
   "execution_count": 38,
   "metadata": {},
   "outputs": [
    {
     "data": {
      "text/plain": [
       "Ttest_indResult(statistic=2.845499141634373, pvalue=0.004612021487636409)"
      ]
     },
     "execution_count": 38,
     "metadata": {},
     "output_type": "execute_result"
    }
   ],
   "source": [
    "stats.ttest_ind(\n",
    "    Job_Detection.Adjusted_Viewable_CTR,\n",
    "    Job.Adjusted_Viewable_CTR,\n",
    "    equal_var = False)"
   ]
  },
  {
   "cell_type": "code",
   "execution_count": 8,
   "metadata": {},
   "outputs": [
    {
     "data": {
      "text/plain": [
       "Ttest_indResult(statistic=2.8903600959412272, pvalue=0.004018908032032257)"
      ]
     },
     "execution_count": 8,
     "metadata": {},
     "output_type": "execute_result"
    }
   ],
   "source": [
    "stats.ttest_ind(\n",
    "    No_job.Adjusted_Viewable_CTR,\n",
    "    Job.Adjusted_Viewable_CTR,\n",
    "    equal_var = False)"
   ]
  },
  {
   "cell_type": "code",
   "execution_count": 11,
   "metadata": {},
   "outputs": [],
   "source": [
    "datafile = \"/Users/justinpassek/Downloads/Kabbage-results-20190530-CTA.csv\"\n",
    "CTA = pd.read_csv(datafile)"
   ]
  },
  {
   "cell_type": "code",
   "execution_count": 12,
   "metadata": {},
   "outputs": [],
   "source": [
    "Apply_Now = CTA[CTA.CTA == \"Apply Now\"]\n",
    "Get_Started = CTA[CTA.CTA == \"Get Started\"]\n",
    "Learn_More = CTA[CTA.CTA == \"Learn More\"]"
   ]
  },
  {
   "cell_type": "code",
   "execution_count": 15,
   "metadata": {},
   "outputs": [
    {
     "data": {
      "text/plain": [
       "Ttest_indResult(statistic=-1.3665512657270908, pvalue=0.19489560802108222)"
      ]
     },
     "execution_count": 15,
     "metadata": {},
     "output_type": "execute_result"
    }
   ],
   "source": [
    "stats.ttest_ind(\n",
    "    Phone_Detection.Adjusted_Viewable_CTR,\n",
    "    Apply_Now.Adjusted_Viewable_CTR,\n",
    "    equal_var = False)"
   ]
  },
  {
   "cell_type": "code",
   "execution_count": 17,
   "metadata": {},
   "outputs": [
    {
     "data": {
      "text/plain": [
       "Ttest_indResult(statistic=2.0773156074674226, pvalue=0.038215793977374984)"
      ]
     },
     "execution_count": 17,
     "metadata": {},
     "output_type": "execute_result"
    }
   ],
   "source": [
    "stats.ttest_ind(\n",
    "    Phone_Detection.Adjusted_Viewable_CTR,\n",
    "    Get_Started.Adjusted_Viewable_CTR,\n",
    "    equal_var = False)"
   ]
  },
  {
   "cell_type": "code",
   "execution_count": 18,
   "metadata": {},
   "outputs": [
    {
     "data": {
      "text/plain": [
       "Ttest_indResult(statistic=1.6784255944520823, pvalue=0.09375509040290941)"
      ]
     },
     "execution_count": 18,
     "metadata": {},
     "output_type": "execute_result"
    }
   ],
   "source": [
    "stats.ttest_ind(\n",
    "    Phone_Detection.Adjusted_Viewable_CTR,\n",
    "    Learn_More.Adjusted_Viewable_CTR,\n",
    "    equal_var = False)"
   ]
  },
  {
   "cell_type": "code",
   "execution_count": 20,
   "metadata": {},
   "outputs": [],
   "source": [
    "datafile = \"/Users/justinpassek/Downloads/Kabbage-results-20190530-Headline.csv\"\n",
    "Headline = pd.read_csv(datafile)"
   ]
  },
  {
   "cell_type": "code",
   "execution_count": 27,
   "metadata": {},
   "outputs": [],
   "source": [
    "Covered = Headline[Headline.Headline == \"Covered\"]\n",
    "flexible = Headline[Headline.Headline == \"flexible\"]\n",
    "In_10_minutes = Headline[Headline.Headline == \"In 10 minutes\"]\n",
    "Next_Investment = Headline[Headline.Headline == \"Next Investment\"]"
   ]
  },
  {
   "cell_type": "code",
   "execution_count": 22,
   "metadata": {},
   "outputs": [
    {
     "data": {
      "text/plain": [
       "Ttest_indResult(statistic=0.9369003462696125, pvalue=0.35953655075953095)"
      ]
     },
     "execution_count": 22,
     "metadata": {},
     "output_type": "execute_result"
    }
   ],
   "source": [
    "stats.ttest_ind(\n",
    "    Phone_Detection.Adjusted_Viewable_CTR,\n",
    "    Covered.Adjusted_Viewable_CTR,\n",
    "    equal_var = False)"
   ]
  },
  {
   "cell_type": "code",
   "execution_count": 23,
   "metadata": {},
   "outputs": [
    {
     "data": {
      "text/plain": [
       "Ttest_indResult(statistic=2.5226869625051807, pvalue=0.012543587649880311)"
      ]
     },
     "execution_count": 23,
     "metadata": {},
     "output_type": "execute_result"
    }
   ],
   "source": [
    "stats.ttest_ind(\n",
    "    Phone_Detection.Adjusted_Viewable_CTR,\n",
    "    flexible.Adjusted_Viewable_CTR,\n",
    "    equal_var = False)"
   ]
  },
  {
   "cell_type": "code",
   "execution_count": 24,
   "metadata": {},
   "outputs": [
    {
     "data": {
      "text/plain": [
       "Ttest_indResult(statistic=-0.8366945591172075, pvalue=0.4039164705148469)"
      ]
     },
     "execution_count": 24,
     "metadata": {},
     "output_type": "execute_result"
    }
   ],
   "source": [
    "stats.ttest_ind(\n",
    "    Phone_Detection.Adjusted_Viewable_CTR,\n",
    "    In_10_minutes.Adjusted_Viewable_CTR,\n",
    "    equal_var = False)"
   ]
  },
  {
   "cell_type": "code",
   "execution_count": 28,
   "metadata": {},
   "outputs": [
    {
     "data": {
      "text/plain": [
       "Ttest_indResult(statistic=2.673853394112319, pvalue=0.0077211431146625535)"
      ]
     },
     "execution_count": 28,
     "metadata": {},
     "output_type": "execute_result"
    }
   ],
   "source": [
    "stats.ttest_ind(\n",
    "    Phone_Detection.Adjusted_Viewable_CTR,\n",
    "    Next_Investment.Adjusted_Viewable_CTR,\n",
    "    equal_var = False)"
   ]
  },
  {
   "cell_type": "code",
   "execution_count": 29,
   "metadata": {},
   "outputs": [],
   "source": [
    "datafile = \"/Users/justinpassek/Downloads/Kabbage-results-20190530-Subheader.csv\"\n",
    "Subheader = pd.read_csv(datafile)"
   ]
  },
  {
   "cell_type": "code",
   "execution_count": 30,
   "metadata": {},
   "outputs": [],
   "source": [
    "Apply_for_business_funding = Subheader[Subheader.Subheader == \"Apply for business funding\"]\n",
    "Apply_Online = Subheader[Subheader.Subheader == \"Apply Online\"]\n",
    "Up_to_250k = Subheader[Subheader.Subheader == \"Up to $250,000\"]"
   ]
  },
  {
   "cell_type": "code",
   "execution_count": 32,
   "metadata": {},
   "outputs": [
    {
     "data": {
      "text/plain": [
       "Ttest_indResult(statistic=0.6796248088456944, pvalue=0.4971643073825459)"
      ]
     },
     "execution_count": 32,
     "metadata": {},
     "output_type": "execute_result"
    }
   ],
   "source": [
    "stats.ttest_ind(\n",
    "    Phone_Detection.Adjusted_Viewable_CTR,\n",
    "    Apply_for_business_funding.Adjusted_Viewable_CTR,\n",
    "    equal_var = False)"
   ]
  },
  {
   "cell_type": "code",
   "execution_count": 33,
   "metadata": {},
   "outputs": [
    {
     "data": {
      "text/plain": [
       "Ttest_indResult(statistic=1.8271010728426698, pvalue=0.0682171726523283)"
      ]
     },
     "execution_count": 33,
     "metadata": {},
     "output_type": "execute_result"
    }
   ],
   "source": [
    "stats.ttest_ind(\n",
    "    Phone_Detection.Adjusted_Viewable_CTR,\n",
    "    Apply_Online.Adjusted_Viewable_CTR,\n",
    "    equal_var = False)"
   ]
  },
  {
   "cell_type": "code",
   "execution_count": 34,
   "metadata": {},
   "outputs": [
    {
     "data": {
      "text/plain": [
       "Ttest_indResult(statistic=2.4692421858922335, pvalue=0.013836587344097784)"
      ]
     },
     "execution_count": 34,
     "metadata": {},
     "output_type": "execute_result"
    }
   ],
   "source": [
    "stats.ttest_ind(\n",
    "    Phone_Detection.Adjusted_Viewable_CTR,\n",
    "    Up_to_250k.Adjusted_Viewable_CTR,\n",
    "    equal_var = False)"
   ]
  },
  {
   "cell_type": "code",
   "execution_count": 66,
   "metadata": {},
   "outputs": [
    {
     "name": "stdout",
     "output_type": "stream",
     "text": [
      "         C_id                                      Creative_Name  \\\n",
      "0   107597722  fy19_smilefacts-everyday_save15_trophybouquet_...   \n",
      "1   107660975  fy19_smilefacts-everyday_save15_trophybouquet_...   \n",
      "2   113265491  fy19_spring_freeshipnosvcchg_springtimevineyar...   \n",
      "3   113198314  fy19_spring_freeshipnosvcchg_springtimevineyar...   \n",
      "4   108294739  fy19_newbaby_na_wonderfulwishes_productshot_16...   \n",
      "5   113470034  fy19_birthday_save15_birthyayflowercake_dotsan...   \n",
      "6   108347822  fy19_newbaby_na_wonderfulwishes_productshot_72...   \n",
      "7    99104106  fy19_birthday_save15_birthyayflowercake_dotsan...   \n",
      "8   113426880  fy19_spring_freeshipnosvcchg_springtimevineyar...   \n",
      "9   113426877  fy19_spring_freeshipnosvcchg_springtimevineyar...   \n",
      "10  107567049  fy19_smilefacts-everyday_save15_trophybouquet_...   \n",
      "\n",
      "   Creative_Pixel_Size  Clicks  Impressions  \\\n",
      "0              300x250     709      2563266   \n",
      "1              300x600     230       528953   \n",
      "2              300x600      29        48746   \n",
      "3              160x600      42        90576   \n",
      "4              160x600      58       242793   \n",
      "5              300x250      70       567824   \n",
      "6               728x90      70       428302   \n",
      "7              300x250     601      2206666   \n",
      "8              160x600     105       403799   \n",
      "9              300x600      35       141811   \n",
      "10             300x600     238       528832   \n",
      "\n",
      "    Active_View__Viewable_Impressions  Active_View__Eligible_Impressions  \\\n",
      "0                              948197                            1990144   \n",
      "1                              186478                             335115   \n",
      "2                                8864                              25436   \n",
      "3                               47385                              77609   \n",
      "4                              109464                             213483   \n",
      "5                              268667                             567822   \n",
      "6                               92944                             405886   \n",
      "7                              975917                            2069840   \n",
      "8                              257195                             403799   \n",
      "9                               73696                             141811   \n",
      "10                             186665                             335378   \n",
      "\n",
      "    Active_View__Measurable_Impressions  Adj_V_CTR      Flower  \n",
      "0                               1900621   0.000554  Wildflower  \n",
      "1                                327333   0.000763  Wildflower  \n",
      "2                                 23542   0.001580  Wildflower  \n",
      "3                                 72553   0.000710  Wildflower  \n",
      "4                                198270   0.000433  Wildflower  \n",
      "5                                525449   0.000241  Wildflower  \n",
      "6                                370247   0.000651  Wildflower  \n",
      "7                               2000889   0.000558  Wildflower  \n",
      "8                                380087   0.000384  Wildflower  \n",
      "9                                137010   0.000459  Wildflower  \n",
      "10                               327835   0.000790  Wildflower  \n",
      "         C_id                                      Creative_Name  \\\n",
      "11   99284079       fy18_easter_save15_tulips_productzoom_728x90   \n",
      "12  113265716  fy19_spring_save15_colorfultulipbulbgarden_pro...   \n",
      "13   99388271      fy18_easter_save15_tulips_productzoom_160x600   \n",
      "14  113226060  fy19_spring_save15_colorfultulipbulbgarden_pro...   \n",
      "15  113225520  fy19_spring_freeshipnosvcchg_springtimevineyar...   \n",
      "16  113198314  fy19_spring_freeshipnosvcchg_springtimevineyar...   \n",
      "17  108294739  fy19_newbaby_na_wonderfulwishes_productshot_16...   \n",
      "18   99386024      fy18_easter_save15_tulips_productzoom_300x600   \n",
      "19  113468558  fy19_spring_save15_colorfultulipbulbgarden_pro...   \n",
      "20  113201914  fy19_spring_freeshipnosvcchg_colorfultulipbulb...   \n",
      "21  113426817  fy19_spring_save15_colorfultulipbulbgarden_pro...   \n",
      "22  113468537  fy19_spring_save15_colorfultulipbulbgarden_pro...   \n",
      "23  113265479  fy19_spring_freeshipnosvcchg_colorfultulipbulb...   \n",
      "24   94589911  fy18_anniversary_save15_rose-envelope_overhead...   \n",
      "25  113225502  fy19_spring_freeshipnosvcchg_colorfultulipbulb...   \n",
      "26  113469965  fy19_spring_save15_colorfultulipbulbgarden_pro...   \n",
      "27  113426877  fy19_spring_freeshipnosvcchg_springtimevineyar...   \n",
      "28   94589905  fy18_anniversary_save15_rose-envelope_overhead...   \n",
      "29  113265491  fy19_spring_freeshipnosvcchg_springtimevineyar...   \n",
      "30  113469986  fy19_spring_freeshipnosvcchg_springtimevineyar...   \n",
      "31  113426880  fy19_spring_freeshipnosvcchg_springtimevineyar...   \n",
      "32  113201659  fy19_spring_save15_colorfultulipbulbgarden_pro...   \n",
      "33  113226063  fy19_spring_save15_colorfultulipbulbgarden_pro...   \n",
      "\n",
      "   Creative_Pixel_Size  Clicks  Impressions  \\\n",
      "11              728x90      65       119933   \n",
      "12             300x600      17        48792   \n",
      "13             160x600      21        58747   \n",
      "14             300x250     104       253138   \n",
      "15             300x250     116       253351   \n",
      "16             160x600      42        90576   \n",
      "17             160x600      58       242793   \n",
      "18             300x600      38        29024   \n",
      "19             300x250      88       567197   \n",
      "20             160x600      41        91024   \n",
      "21             300x600      42       141540   \n",
      "22              728x90      71       525582   \n",
      "23             300x250     118       252380   \n",
      "24             300x600     276       366915   \n",
      "25             300x600      21        48304   \n",
      "26             160x600     100       402453   \n",
      "27             300x600      35       141811   \n",
      "28             300x250     862      1957092   \n",
      "29             300x600      29        48746   \n",
      "30             300x250      84       569910   \n",
      "31             160x600     105       403799   \n",
      "32             160x600      43        90672   \n",
      "33              728x90      19        89467   \n",
      "\n",
      "    Active_View__Viewable_Impressions  Active_View__Eligible_Impressions  \\\n",
      "11                              52556                             119706   \n",
      "12                               9022                              25623   \n",
      "13                              29301                              58694   \n",
      "14                              61414                             147866   \n",
      "15                              61749                             148231   \n",
      "16                              47385                              77609   \n",
      "17                             109464                             213483   \n",
      "18                              15200                              28998   \n",
      "19                             267554                             567196   \n",
      "20                              47879                              78141   \n",
      "21                              73648                             141540   \n",
      "22                             223149                             525582   \n",
      "23                              61832                             148104   \n",
      "24                             235840                             362551   \n",
      "25                               9034                              25405   \n",
      "26                             256516                             402453   \n",
      "27                              73696                             141811   \n",
      "28                            1093505                            1935403   \n",
      "29                               8864                              25436   \n",
      "30                             269401                             569910   \n",
      "31                             257195                             403799   \n",
      "32                              47346                              77776   \n",
      "33                               9846                              44400   \n",
      "\n",
      "    Active_View__Measurable_Impressions  Adj_V_CTR Flower  \n",
      "11                               113693   0.001172  Tulip  \n",
      "12                                23671   0.000914  Tulip  \n",
      "13                                53228   0.000649  Tulip  \n",
      "14                               137214   0.000918  Tulip  \n",
      "15                               137742   0.001021  Tulip  \n",
      "16                                72553   0.000710  Tulip  \n",
      "17                               198270   0.000433  Tulip  \n",
      "18                                26903   0.002317  Tulip  \n",
      "19                               524348   0.000304  Tulip  \n",
      "20                                72969   0.000686  Tulip  \n",
      "21                               136756   0.000551  Tulip  \n",
      "22                               500422   0.000303  Tulip  \n",
      "23                               137565   0.001040  Tulip  \n",
      "24                               353590   0.001128  Tulip  \n",
      "25                                23577   0.001135  Tulip  \n",
      "26                               378759   0.000367  Tulip  \n",
      "27                               137010   0.000459  Tulip  \n",
      "28                              1859835   0.000749  Tulip  \n",
      "29                                23542   0.001580  Tulip  \n",
      "30                               527543   0.000289  Tulip  \n",
      "31                               380087   0.000384  Tulip  \n",
      "32                                72577   0.000727  Tulip  \n",
      "33                                40780   0.000880  Tulip  \n",
      "         C_id                                      Creative_Name  \\\n",
      "34  110730839  fy19_plants_save15_blue_multiple-productshot-H...   \n",
      "35  108296245       fy19_everyday_save15_na_purpleflower_300x250   \n",
      "36   96673442       fy19_everyday_save15_na_purpleflower_300x250   \n",
      "37  110630823  fy19_plants_save15_blue_multiple-productshot-H...   \n",
      "38  110634372  fy19_plants_save15_blue_multiple-productshot-H...   \n",
      "\n",
      "   Creative_Pixel_Size  Clicks  Impressions  \\\n",
      "34              320x50     678       651573   \n",
      "35             300x250     154       211406   \n",
      "36             300x250    2874     10749598   \n",
      "37              728x90     176       595059   \n",
      "38              300x50      23        34336   \n",
      "\n",
      "    Active_View__Viewable_Impressions  Active_View__Eligible_Impressions  \\\n",
      "34                              16088                              41553   \n",
      "35                              37483                             147433   \n",
      "36                            4721906                           10620821   \n",
      "37                             105316                             403010   \n",
      "38                                401                                760   \n",
      "\n",
      "    Active_View__Measurable_Impressions  Adj_V_CTR Flower  \n",
      "34                                31944   0.002066  Lilac  \n",
      "35                               136242   0.002648  Lilac  \n",
      "36                              9287518   0.000526  Lilac  \n",
      "37                               373256   0.001048  Lilac  \n",
      "38                                  621   0.001037  Lilac  \n",
      "         C_id                                      Creative_Name  \\\n",
      "39   96581218    fy18_anniversary_save15_redrose_closeup_300x600   \n",
      "40   99034097  fy18_everyday_startingat1999_n/a_purpleroseszo...   \n",
      "41  107660963  fy19_smilefacts-bday_save15_trophybouquet_rose...   \n",
      "42  113225061  fy19_spring_save15_breezybouquet_productshot_3...   \n",
      "43   96580438  fy18_birthday_save15_dozenroses_closeupbdaywis...   \n",
      "44  108298078  fy19_newbaby_na_wonderfulwishes_productshot_30...   \n",
      "45   96629298  fy18_birthday_save15_dozenroses_closeupbdaywis...   \n",
      "46  108246528  fy18_everyday_save15_dozenroses_closeupdozenwa...   \n",
      "47  113226057  fy19_spring_save15_breezybouquet_productshot_7...   \n",
      "48   94589905  fy18_anniversary_save15_rose-envelope_overhead...   \n",
      "49  113201926  fy19_spring_save15_breezybouquet_productshot_1...   \n",
      "50  107660975  fy19_smilefacts-everyday_save15_trophybouquet_...   \n",
      "51  107659832  fy19_smilefacts-everyday_save15_trophybouquet_...   \n",
      "52   98932701  fy18_everyday_startingat1999_n/a_purpleroseszo...   \n",
      "53  108335531  fy18_everyday_save15_dozenroses_closeupdozenwa...   \n",
      "54  108335978  fy18_everyday_save15_dozenroses_closeupdozenwa...   \n",
      "55  113225526  fy19_spring_save15_breezybouquet_productshot_3...   \n",
      "56   96628983  fy18_birthday_save15_dozenroses_closeupbdaywis...   \n",
      "57   98896792  fy18_everyday_startingat1999_n/a_purpleroseszo...   \n",
      "58   96629292    fy18_anniversary_save15_redrose_closeup_300x250   \n",
      "59  102510481  fy19_default_no-offer_floralembrace_productsho...   \n",
      "\n",
      "   Creative_Pixel_Size  Clicks  Impressions  \\\n",
      "39             300x600     313       360621   \n",
      "40             300x600     210       312814   \n",
      "41             300x250     814      2432085   \n",
      "42             300x250      81       252136   \n",
      "43             300x250    1299      3904239   \n",
      "44             300x600      45       120849   \n",
      "45             300x600     268       407185   \n",
      "46             300x600      22        64966   \n",
      "47              728x90      23        89106   \n",
      "48             300x250     862      1957092   \n",
      "49             160x600      54        90988   \n",
      "50             300x600     230       528953   \n",
      "51             300x250    1710      5875066   \n",
      "52             300x250     781      2630866   \n",
      "53             160x600      51       169564   \n",
      "54             300x250      91       546266   \n",
      "55             300x600      29        48880   \n",
      "56             160x600     302       647483   \n",
      "57             160x600     191       513843   \n",
      "58             300x250     746      1935324   \n",
      "59              728x90     194      1134689   \n",
      "\n",
      "    Active_View__Viewable_Impressions  Active_View__Eligible_Impressions  \\\n",
      "39                             231806                             356257   \n",
      "40                             127065                             253131   \n",
      "41                             808705                            1571911   \n",
      "42                              61454                             147435   \n",
      "43                            1574652                            3729803   \n",
      "44                              33158                              85996   \n",
      "45                             194759                             382116   \n",
      "46                              26159                              64921   \n",
      "47                               9874                              44006   \n",
      "48                            1093505                            1935403   \n",
      "49                              47787                              77941   \n",
      "50                             186478                             335115   \n",
      "51                            2149369                            5311102   \n",
      "52                             828547                            2440272   \n",
      "53                              95783                             169534   \n",
      "54                             199688                             545590   \n",
      "55                               9030                              25720   \n",
      "56                             391221                             647125   \n",
      "57                             222366                             469518   \n",
      "58                            1083887                            1914868   \n",
      "59                             382903                            1107900   \n",
      "\n",
      "    Active_View__Measurable_Impressions  Adj_V_CTR Flower  \n",
      "39                               347687   0.001302   Rose  \n",
      "40                               243812   0.001288   Rose  \n",
      "41                              1509346   0.000625   Rose  \n",
      "42                               136951   0.000716   Rose  \n",
      "43                              3582112   0.000757   Rose  \n",
      "44                                80344   0.000902   Rose  \n",
      "45                               369902   0.001250   Rose  \n",
      "46                                59648   0.000772   Rose  \n",
      "47                                40470   0.001058   Rose  \n",
      "48                              1859835   0.000749   Rose  \n",
      "49                                72872   0.000905   Rose  \n",
      "50                               327333   0.000763   Rose  \n",
      "51                              4918160   0.000666   Rose  \n",
      "52                              2243457   0.000804   Rose  \n",
      "53                               155629   0.000489   Rose  \n",
      "54                               501345   0.000418   Rose  \n",
      "55                                23894   0.001570   Rose  \n",
      "56                               612852   0.000731   Rose  \n",
      "57                               440958   0.000737   Rose  \n",
      "58                              1841372   0.000655   Rose  \n",
      "59                              1088543   0.000486   Rose  \n"
     ]
    }
   ],
   "source": [
    "Wildflower = Flower[Flower.Flower == \"Wildflower\"]\n",
    "print(Wildflower)\n",
    "Tulip = Flower[Flower.Flower == \"Tulip\"]\n",
    "print(Tulip)\n",
    "Lilac = Flower[Flower.Flower == \"Lilac\"]\n",
    "print(Lilac)\n",
    "Rose = Flower[Flower.Flower == \"Rose\"]\n",
    "print(Rose)"
   ]
  },
  {
   "cell_type": "code",
   "execution_count": 67,
   "metadata": {},
   "outputs": [
    {
     "data": {
      "text/plain": [
       "Ttest_indResult(statistic=0.8180659456779306, pvalue=0.41823860045880346)"
      ]
     },
     "execution_count": 67,
     "metadata": {},
     "output_type": "execute_result"
    }
   ],
   "source": [
    "stats.ttest_ind(\n",
    "    All.Adj_V_CTR,\n",
    "    Rose.Adj_V_CTR,\n",
    "    equal_var = False\n",
    ")"
   ]
  },
  {
   "cell_type": "code",
   "execution_count": null,
   "metadata": {},
   "outputs": [],
   "source": []
  }
 ],
 "metadata": {
  "kernelspec": {
   "display_name": "Python 3",
   "language": "python",
   "name": "python3"
  },
  "language_info": {
   "codemirror_mode": {
    "name": "ipython",
    "version": 3
   },
   "file_extension": ".py",
   "mimetype": "text/x-python",
   "name": "python",
   "nbconvert_exporter": "python",
   "pygments_lexer": "ipython3",
   "version": "3.6.5"
  }
 },
 "nbformat": 4,
 "nbformat_minor": 2
}
