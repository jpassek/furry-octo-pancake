{
 "cells": [
  {
   "cell_type": "markdown",
   "metadata": {
    "colab_type": "text",
    "id": "aeN3pGgG3O3l"
   },
   "source": [
    "# User Authentification\n"
   ]
  },
  {
   "cell_type": "code",
   "execution_count": 1,
   "metadata": {
    "colab": {
     "base_uri": "https://localhost:8080/",
     "height": 34
    },
    "colab_type": "code",
    "executionInfo": {
     "elapsed": 19603,
     "status": "ok",
     "timestamp": 1587378508253,
     "user": {
      "displayName": "Christoph Niemeyer",
      "photoUrl": "https://lh3.googleusercontent.com/a-/AOh14GhtG_fKKGgDylhfuOFEDGZ88c53xAv7LN-1tYs_=s64",
      "userId": "06940063287947037979"
     },
     "user_tz": -60
    },
    "id": "UJsqVa3XwmQA",
    "outputId": "00c1b44c-c721-46de-849e-b3ebf9b3e750"
   },
   "outputs": [
    {
     "name": "stdout",
     "output_type": "stream",
     "text": [
      "Authenticated\n"
     ]
    }
   ],
   "source": [
    "from google.colab import auth\n",
    "auth.authenticate_user()\n",
    "print('Authenticated')"
   ]
  },
  {
   "cell_type": "markdown",
   "metadata": {
    "colab_type": "text",
    "id": "epmJuQPb3cVB"
   },
   "source": [
    "\n",
    "# Getting the right Libraries and Project ID\n"
   ]
  },
  {
   "cell_type": "markdown",
   "metadata": {
    "colab_type": "text",
    "id": "0HBoB1Yk3qsA"
   },
   "source": [
    "Make sure I'm using latest version of BigQuery Python lib\n",
    "\n"
   ]
  },
  {
   "cell_type": "code",
   "execution_count": 0,
   "metadata": {
    "colab": {},
    "colab_type": "code",
    "id": "IAQzPlaOw0ZG"
   },
   "outputs": [],
   "source": [
    "!pip install --upgrade google-cloud-bigquery"
   ]
  },
  {
   "cell_type": "markdown",
   "metadata": {
    "colab_type": "text",
    "id": "pYSLIhQn3v8Z"
   },
   "source": [
    "Import BigQuery Python Client Library and initialize client with correct Projectid"
   ]
  },
  {
   "cell_type": "code",
   "execution_count": 0,
   "metadata": {
    "colab": {},
    "colab_type": "code",
    "id": "rYfWVRC1xKJ_"
   },
   "outputs": [],
   "source": [
    "project_id = 'dev-d2c-engagement-scoring'\n",
    "from google.cloud import bigquery\n",
    "client = bigquery.Client(project=project_id)"
   ]
  },
  {
   "cell_type": "markdown",
   "metadata": {
    "colab_type": "text",
    "id": "jk7H1lGz32hI"
   },
   "source": [
    "# Create Model"
   ]
  },
  {
   "cell_type": "markdown",
   "metadata": {
    "colab_type": "text",
    "id": "6qjEkVuh58p6"
   },
   "source": [
    "Here is where we define the shape and parameters of the model. I comment the different components with options to consider.\n"
   ]
  },
  {
   "cell_type": "code",
   "execution_count": 7,
   "metadata": {
    "colab": {
     "base_uri": "https://localhost:8080/",
     "height": 34
    },
    "colab_type": "code",
    "executionInfo": {
     "elapsed": 757,
     "status": "ok",
     "timestamp": 1587378650592,
     "user": {
      "displayName": "Christoph Niemeyer",
      "photoUrl": "https://lh3.googleusercontent.com/a-/AOh14GhtG_fKKGgDylhfuOFEDGZ88c53xAv7LN-1tYs_=s64",
      "userId": "06940063287947037979"
     },
     "user_tz": -60
    },
    "id": "o6WM8_qVxPg3",
    "outputId": "eaad377e-673a-447f-9f03-a77f0935b458"
   },
   "outputs": [
    {
     "data": {
      "text/plain": [
       "<google.cloud.bigquery.job.QueryJob at 0x7f6714ee51d0>"
      ]
     },
     "execution_count": 7,
     "metadata": {
      "tags": []
     },
     "output_type": "execute_result"
    }
   ],
   "source": [
    "client.query('''\n",
    "# MODEL  has the shape of <dataset>.<modelname> \n",
    "# where <dataset> should already exist.\n",
    "\n",
    "CREATE OR REPLACE MODEL `Lancome_MX_d2c_engagement_scoring.sample_model`\n",
    "\n",
    "# Transform clasue enables doing data preprocessing as well as \n",
    "# feature selection. Whatever preprocessing defind in this stage will also\n",
    "# be applied to new data when using the PREDICT module.\n",
    "\n",
    "  TRANSFORM( \n",
    "    total_transactions, \n",
    "    # EXAMPLE OF STANDARD SCALER\n",
    "    ML.STANDARD_SCALER(total_add_to_carts) OVER() as scaled_add_to_carts,\t\n",
    "    ML.STANDARD_SCALER(total_pageviews_over_3) OVER() as scaled_pageviews_over_3,\t\n",
    "    ML.STANDARD_SCALER(total_product_views) OVER() as scaled_product_views,\t\n",
    "\n",
    "    # EXAMPLE OF MIN MAX SCALER\n",
    "    ML.MIN_MAX_SCALER(total_session_time_over_120s) OVER() as scaled_session_time_over_120s,\t\n",
    "\n",
    "    # EXAMPLE OF NON TRANSFORMED FEATURES\n",
    "    mobile_session_share,\n",
    "    desktop_session_share,\t\n",
    "    tablet_session_share,\t\n",
    "    traffic_share_from_mexico,\t\n",
    "    avg_bounce_rate2,\t\n",
    "    remarketing_session_share,\t\n",
    "    avg_product_revenue,\n",
    "    avg_order_value,\n",
    "    avg_local_order_value,\n",
    "    avg_session_quality\n",
    "  )\n",
    "\n",
    "# In the following OPTIONS section we define model arguments\n",
    "\n",
    "  OPTIONS(\n",
    "    # Model can be LINEAR_REG, LOGISTIC_REG, 'KMEANS'\n",
    "    model_type='LINEAR_REG', \n",
    "    # The maximum number of training iterations or steps.\n",
    "    max_iteration=50, \n",
    "    # Learning Rate to apply\n",
    "    ls_init_learn_rate=.15,\n",
    "    # Here we choose a regularization method, we can try with L2 as to nor \n",
    "    # drive any coefficient to 0 initially.\n",
    "    l2_reg=1,\n",
    "    # Options for data split are 'AUTO_SPLIT', 'RANDOM', 'SEQ' or 'CUSTOM'\n",
    "    # We will eventually move to 'SEQ' adding timestamp to evaluate performance\n",
    "    # over different periods.\n",
    "    data_split_method = 'RANDOM',\n",
    "    # Difine KPI to model\n",
    "    input_label_cols=['total_transactions']) AS\n",
    "\n",
    "SELECT\n",
    "  *\n",
    "FROM\n",
    "  `Lancome_MX_d2c_engagement_scoring.mx_lancome_d2csignals_last14days`\n",
    "\n",
    "# Ideally here we would add a WHERE clause to filter out some instances \n",
    "# and leave them for model evaluation.\n",
    "\n",
    "''')"
   ]
  },
  {
   "cell_type": "markdown",
   "metadata": {
    "colab_type": "text",
    "id": "gdCyeSkO6EyX"
   },
   "source": [
    "# Results of Model Training\n",
    "\n",
    "Outputs for linear regression will include:\n",
    "\n",
    "*   mean_absolute_error\n",
    "*   mean_squared_error\n",
    "*   mean_squared_log_error\n",
    "*   median_absolute_error\n",
    "*   r2_score\n",
    "*   explained_variance\n",
    "\n"
   ]
  },
  {
   "cell_type": "code",
   "execution_count": 8,
   "metadata": {
    "colab": {
     "base_uri": "https://localhost:8080/",
     "height": 51
    },
    "colab_type": "code",
    "executionInfo": {
     "elapsed": 1310,
     "status": "ok",
     "timestamp": 1587378658076,
     "user": {
      "displayName": "Christoph Niemeyer",
      "photoUrl": "https://lh3.googleusercontent.com/a-/AOh14GhtG_fKKGgDylhfuOFEDGZ88c53xAv7LN-1tYs_=s64",
      "userId": "06940063287947037979"
     },
     "user_tz": -60
    },
    "id": "XvNMX_7Qx8t8",
    "outputId": "7de97c5a-7556-4db4-cf9a-0f246b800c98"
   },
   "outputs": [
    {
     "name": "stdout",
     "output_type": "stream",
     "text": [
      "   training_run  iteration      loss  eval_loss  learning_rate  duration_ms\n",
      "0             0          0  8.932947  27.182758           0.15         2159\n"
     ]
    }
   ],
   "source": [
    "training_result = client.query('''SELECT *\n",
    "  \n",
    "  FROM ML.TRAINING_INFO(MODEL `Lancome_MX_d2c_engagement_scoring.sample_model`)''').to_dataframe()\n",
    "\n",
    "print(training_result)"
   ]
  },
  {
   "cell_type": "markdown",
   "metadata": {
    "colab_type": "text",
    "id": "dfOh7qSz6NOv"
   },
   "source": [
    "# Results on New Data\n",
    "\n",
    "Results of Model Evaluation on completely unseen Data"
   ]
  },
  {
   "cell_type": "code",
   "execution_count": 0,
   "metadata": {
    "colab": {},
    "colab_type": "code",
    "id": "IJQI7Ru86Tbn"
   },
   "outputs": [],
   "source": [
    "evaluation_result = client.query(''' SELECT\n",
    "  *\n",
    "FROM ML.EVALUATE(MODEL `Lancome_MX_d2c_engagement_scoring.sample_model`, (\n",
    "  SELECT\n",
    "  *\n",
    "  FROM\n",
    "  `Lancome_MX_d2c_engagement_scoring.mx_lancome_d2csignals_last14days`\n",
    "  # Here we would select all rows filtered from CREATE MODEL\n",
    "  WHERE  'some filter clause') ''').to_dataframe()\n",
    "\n",
    "print(evaluation_result)"
   ]
  }
 ],
 "metadata": {
  "colab": {
   "collapsed_sections": [],
   "name": "D2C_BQML_example.ipynb",
   "provenance": []
  },
  "kernelspec": {
   "display_name": "Python 3",
   "language": "python",
   "name": "python3"
  },
  "language_info": {
   "codemirror_mode": {
    "name": "ipython",
    "version": 3
   },
   "file_extension": ".py",
   "mimetype": "text/x-python",
   "name": "python",
   "nbconvert_exporter": "python",
   "pygments_lexer": "ipython3",
   "version": "3.6.8"
  },
  "toc": {
   "base_numbering": 1,
   "nav_menu": {},
   "number_sections": true,
   "sideBar": true,
   "skip_h1_title": false,
   "title_cell": "Table of Contents",
   "title_sidebar": "Contents",
   "toc_cell": false,
   "toc_position": {},
   "toc_section_display": true,
   "toc_window_display": false
  }
 },
 "nbformat": 4,
 "nbformat_minor": 1
}
