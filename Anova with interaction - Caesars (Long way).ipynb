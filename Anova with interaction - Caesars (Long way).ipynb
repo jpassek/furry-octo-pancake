{
 "cells": [
  {
   "cell_type": "code",
   "execution_count": 5,
   "metadata": {},
   "outputs": [],
   "source": [
    "# Import libraries\n",
    "import pandas as pd\n",
    "from statsmodels.formula.api import ols\n",
    "from statsmodels.stats.anova import anova_lm\n",
    "from statsmodels.graphics.factorplots import interaction_plot\n",
    "import matplotlib.pyplot as plt\n",
    "from scipy import stats"
   ]
  },
  {
   "cell_type": "code",
   "execution_count": 23,
   "metadata": {},
   "outputs": [
    {
     "data": {
      "text/html": [
       "<div>\n",
       "<style scoped>\n",
       "    .dataframe tbody tr th:only-of-type {\n",
       "        vertical-align: middle;\n",
       "    }\n",
       "\n",
       "    .dataframe tbody tr th {\n",
       "        vertical-align: top;\n",
       "    }\n",
       "\n",
       "    .dataframe thead th {\n",
       "        text-align: right;\n",
       "    }\n",
       "</style>\n",
       "<table border=\"1\" class=\"dataframe\">\n",
       "  <thead>\n",
       "    <tr style=\"text-align: right;\">\n",
       "      <th></th>\n",
       "      <th>Unnamed: 0</th>\n",
       "      <th>len</th>\n",
       "      <th>supp</th>\n",
       "      <th>dose</th>\n",
       "    </tr>\n",
       "  </thead>\n",
       "  <tbody>\n",
       "    <tr>\n",
       "      <th>0</th>\n",
       "      <td>1</td>\n",
       "      <td>4.2</td>\n",
       "      <td>VC</td>\n",
       "      <td>0.5</td>\n",
       "    </tr>\n",
       "    <tr>\n",
       "      <th>1</th>\n",
       "      <td>2</td>\n",
       "      <td>11.5</td>\n",
       "      <td>VC</td>\n",
       "      <td>0.5</td>\n",
       "    </tr>\n",
       "    <tr>\n",
       "      <th>2</th>\n",
       "      <td>3</td>\n",
       "      <td>7.3</td>\n",
       "      <td>VC</td>\n",
       "      <td>0.5</td>\n",
       "    </tr>\n",
       "    <tr>\n",
       "      <th>3</th>\n",
       "      <td>4</td>\n",
       "      <td>5.8</td>\n",
       "      <td>VC</td>\n",
       "      <td>0.5</td>\n",
       "    </tr>\n",
       "    <tr>\n",
       "      <th>4</th>\n",
       "      <td>5</td>\n",
       "      <td>6.4</td>\n",
       "      <td>VC</td>\n",
       "      <td>0.5</td>\n",
       "    </tr>\n",
       "  </tbody>\n",
       "</table>\n",
       "</div>"
      ],
      "text/plain": [
       "   Unnamed: 0   len supp  dose\n",
       "0           1   4.2   VC   0.5\n",
       "1           2  11.5   VC   0.5\n",
       "2           3   7.3   VC   0.5\n",
       "3           4   5.8   VC   0.5\n",
       "4           5   6.4   VC   0.5"
      ]
     },
     "execution_count": 23,
     "metadata": {},
     "output_type": "execute_result"
    }
   ],
   "source": [
    "datafile = \"/Users/justinpassek/Documents/ToothGrowth.csv\"\n",
    "data = pd.read_csv(datafile)\n",
    "data.head()"
   ]
  },
  {
   "cell_type": "code",
   "execution_count": 25,
   "metadata": {},
   "outputs": [
    {
     "data": {
      "image/png": "[encoded data removed]",
      "text/plain": [
       "<Figure size 432x288 with 1 Axes>"
      ]
     },
     "metadata": {},
     "output_type": "display_data"
    }
   ],
   "source": [
    "fig = interaction_plot(data.dose\n",
    "                      ,data.supp\n",
    "                      ,data.len\n",
    "                      ,colors = ['green','yellow']\n",
    "                      ,markers = ['D','^']\n",
    "                      ,ms=10)"
   ]
  },
  {
   "cell_type": "code",
   "execution_count": 53,
   "metadata": {},
   "outputs": [
    {
     "name": "stdout",
     "output_type": "stream",
     "text": [
      "N is 60\n",
      "df_a is 1\n",
      "df_b is 2\n",
      "df_axb is 2\n",
      "df_w is 54\n"
     ]
    }
   ],
   "source": [
    "# Degrees of Freedom\n",
    "N = len(data.len)\n",
    "print(\"N is %s\" % N)\n",
    "\n",
    "df_a = len(data.supp.unique()) - 1\n",
    "print(\"df_a is %s\" % df_a)\n",
    "\n",
    "df_b = len(data.dose.unique()) - 1\n",
    "print(\"df_b is %s\" % df_b)\n",
    "\n",
    "df_axb = df_a*df_b\n",
    "print(\"df_axb is %s\" % df_axb)\n",
    "\n",
    "df_w = N - (len(data.supp.unique())*len(data.dose.unique()))\n",
    "print(\"df_w is %s\" % df_w)"
   ]
  },
  {
   "cell_type": "code",
   "execution_count": 59,
   "metadata": {},
   "outputs": [
    {
     "name": "stdout",
     "output_type": "stream",
     "text": [
      "Grand mean is 18.813333333333336\n",
      "Sum of Squares SUPP is 205.35000000000005\n",
      "Sum of Squares DOSE is 2426.434333333332\n",
      "Sum of Squares Total is 3452.2093333333332\n"
     ]
    }
   ],
   "source": [
    "#Sum of Squares\n",
    "grand_mean = data['len'].mean()\n",
    "print(\"Grand mean is %s\" % grand_mean)\n",
    "\n",
    "ssq_a = sum([(data[data.supp ==l].len.mean()-grand_mean)**2 for l in data.supp])\n",
    "print(\"Sum of Squares SUPP is %s\" % ssq_a)\n",
    "\n",
    "ssq_b = sum([(data[data.dose ==l].len.mean()-grand_mean)**2 for l in data.dose])\n",
    "print(\"Sum of Squares DOSE is %s\" % ssq_b)\n",
    "\n",
    "ssq_t = sum((data.len - grand_mean)**2)\n",
    "print(\"Sum of Squares Total is %s\" % ssq_t)"
   ]
  },
  {
   "cell_type": "code",
   "execution_count": 65,
   "metadata": {},
   "outputs": [
    {
     "name": "stdout",
     "output_type": "stream",
     "text": [
      "    Unnamed: 0   len supp  dose\n",
      "0            1   4.2   VC   0.5\n",
      "1            2  11.5   VC   0.5\n",
      "2            3   7.3   VC   0.5\n",
      "3            4   5.8   VC   0.5\n",
      "4            5   6.4   VC   0.5\n",
      "5            6  10.0   VC   0.5\n",
      "6            7  11.2   VC   0.5\n",
      "7            8  11.2   VC   0.5\n",
      "8            9   5.2   VC   0.5\n",
      "9           10   7.0   VC   0.5\n",
      "10          11  16.5   VC   1.0\n",
      "11          12  16.5   VC   1.0\n",
      "12          13  15.2   VC   1.0\n",
      "13          14  17.3   VC   1.0\n",
      "14          15  22.5   VC   1.0\n",
      "15          16  17.3   VC   1.0\n",
      "16          17  13.6   VC   1.0\n",
      "17          18  14.5   VC   1.0\n",
      "18          19  18.8   VC   1.0\n",
      "19          20  15.5   VC   1.0\n",
      "20          21  23.6   VC   2.0\n",
      "21          22  18.5   VC   2.0\n",
      "22          23  33.9   VC   2.0\n",
      "23          24  25.5   VC   2.0\n",
      "24          25  26.4   VC   2.0\n",
      "25          26  32.5   VC   2.0\n",
      "26          27  26.7   VC   2.0\n",
      "27          28  21.5   VC   2.0\n",
      "28          29  23.3   VC   2.0\n",
      "29          30  29.5   VC   2.0\n",
      "    Unnamed: 0   len supp  dose\n",
      "30          31  15.2   OJ   0.5\n",
      "31          32  21.5   OJ   0.5\n",
      "32          33  17.6   OJ   0.5\n",
      "33          34   9.7   OJ   0.5\n",
      "34          35  14.5   OJ   0.5\n",
      "35          36  10.0   OJ   0.5\n",
      "36          37   8.2   OJ   0.5\n",
      "37          38   9.4   OJ   0.5\n",
      "38          39  16.5   OJ   0.5\n",
      "39          40   9.7   OJ   0.5\n",
      "40          41  19.7   OJ   1.0\n",
      "41          42  23.3   OJ   1.0\n",
      "42          43  23.6   OJ   1.0\n",
      "43          44  26.4   OJ   1.0\n",
      "44          45  20.0   OJ   1.0\n",
      "45          46  25.2   OJ   1.0\n",
      "46          47  25.8   OJ   1.0\n",
      "47          48  21.2   OJ   1.0\n",
      "48          49  14.5   OJ   1.0\n",
      "49          50  27.3   OJ   1.0\n",
      "50          51  25.5   OJ   2.0\n",
      "51          52  26.4   OJ   2.0\n",
      "52          53  22.4   OJ   2.0\n",
      "53          54  24.5   OJ   2.0\n",
      "54          55  24.8   OJ   2.0\n",
      "55          56  30.9   OJ   2.0\n",
      "56          57  26.4   OJ   2.0\n",
      "57          58  27.3   OJ   2.0\n",
      "58          59  29.4   OJ   2.0\n",
      "59          60  23.0   OJ   2.0\n",
      "[7.980000000000001, 7.980000000000001, 7.980000000000001, 7.980000000000001, 7.980000000000001, 7.980000000000001, 7.980000000000001, 7.980000000000001, 7.980000000000001, 7.980000000000001, 16.77, 16.77, 16.77, 16.77, 16.77, 16.77, 16.77, 16.77, 16.77, 16.77, 26.139999999999997, 26.139999999999997, 26.139999999999997, 26.139999999999997, 26.139999999999997, 26.139999999999997, 26.139999999999997, 26.139999999999997, 26.139999999999997, 26.139999999999997]\n",
      "[13.23, 13.23, 13.23, 13.23, 13.23, 13.23, 13.23, 13.23, 13.23, 13.23, 22.7, 22.7, 22.7, 22.7, 22.7, 22.7, 22.7, 22.7, 22.7, 22.7, 26.060000000000002, 26.060000000000002, 26.060000000000002, 26.060000000000002, 26.060000000000002, 26.060000000000002, 26.060000000000002, 26.060000000000002, 26.060000000000002, 26.060000000000002]\n",
      "712.106\n"
     ]
    }
   ],
   "source": [
    "\n",
    "vc = data[data.supp == 'VC']\n",
    "print(vc)\n",
    "\n",
    "oj = data[data.supp == 'OJ']\n",
    "print(oj)\n",
    "\n",
    "vc_dose_means = [vc[vc.dose == d].len.mean() for d in vc.dose]\n",
    "print(vc_dose_means)\n",
    "\n",
    "oj_dose_means = [oj[oj.dose == d].len.mean() for d in oj.dose]\n",
    "print(oj_dose_means)\n",
    "\n",
    "ssq_w = sum((oj.len - oj_dose_means)**2) +sum((vc.len - vc_dose_means)**2)\n",
    "print(ssq_w)"
   ]
  },
  {
   "cell_type": "code",
   "execution_count": 68,
   "metadata": {},
   "outputs": [
    {
     "name": "stdout",
     "output_type": "stream",
     "text": [
      "108.31900000000155\n"
     ]
    }
   ],
   "source": [
    "# Sum of Squares interaction\n",
    "ssq_axb = ssq_t-ssq_a-ssq_b-ssq_w\n",
    "print(ssq_axb)"
   ]
  },
  {
   "cell_type": "code",
   "execution_count": 69,
   "metadata": {},
   "outputs": [
    {
     "name": "stdout",
     "output_type": "stream",
     "text": [
      "205.35000000000005\n",
      "1213.217166666666\n",
      "54.159500000000776\n",
      "13.187148148148149\n"
     ]
    }
   ],
   "source": [
    "# Mean squares\n",
    "ms_a = ssq_a/df_a\n",
    "print(ms_a)\n",
    "\n",
    "ms_b = ssq_b/df_b\n",
    "print(ms_b)\n",
    "\n",
    "ms_axb = ssq_axb/df_axb\n",
    "print(ms_axb)\n",
    "\n",
    "ms_w = ssq_w/df_w\n",
    "print(ms_w)"
   ]
  },
  {
   "cell_type": "code",
   "execution_count": 73,
   "metadata": {},
   "outputs": [
    {
     "name": "stdout",
     "output_type": "stream",
     "text": [
      "15.571979452497244\n",
      "91.99996489286701\n",
      "4.106991094022578\n"
     ]
    }
   ],
   "source": [
    "# F-statistic\n",
    "f_a = ms_a/ms_w\n",
    "print(f_a)\n",
    "\n",
    "f_b = ms_b/ms_w\n",
    "print(f_b)\n",
    "\n",
    "f_axb = ms_axb/ms_w\n",
    "print(f_axb)"
   ]
  },
  {
   "cell_type": "code",
   "execution_count": 75,
   "metadata": {},
   "outputs": [
    {
     "name": "stdout",
     "output_type": "stream",
     "text": [
      "0.00023118280977342404\n",
      "4.046291195992279e-18\n",
      "0.021860268964789892\n"
     ]
    }
   ],
   "source": [
    "# P-values\n",
    "p_a = stats.f.sf(f_a, df_a, df_w)\n",
    "print(p_a)\n",
    "\n",
    "p_b = stats.f.sf(f_b, df_b, df_w)\n",
    "print(p_b)\n",
    "\n",
    "p_axb = stats.f.sf(f_axb, df_axb, df_w)\n",
    "print(p_axb)"
   ]
  },
  {
   "cell_type": "code",
   "execution_count": 78,
   "metadata": {
    "scrolled": true
   },
   "outputs": [
    {
     "name": "stdout",
     "output_type": "stream",
     "text": [
      "                sum_sq  df        F       PR(>F)\n",
      "supp        205.350000   1   15.572  0.000231183\n",
      "dose       2426.434333   2       92  4.04629e-18\n",
      "supp:dose   108.319000   2  4.10699    0.0218603\n",
      "Residual    712.106000  54      NaN          NaN\n"
     ]
    }
   ],
   "source": [
    "# Table\n",
    "results = {'sum_sq':[ssq_a, ssq_b, ssq_axb, ssq_w],\n",
    "           'df':[df_a, df_b, df_axb, df_w],\n",
    "           'F':[f_a, f_b, f_axb, 'NaN'],\n",
    "            'PR(>F)':[p_a, p_b, p_axb, 'NaN']}\n",
    "columns=['sum_sq', 'df', 'F', 'PR(>F)']\n",
    " \n",
    "aov_table1 = pd.DataFrame(results, columns=columns,\n",
    "                          index=['supp', 'dose', \n",
    "                          'supp:dose', 'Residual'])\n",
    "\n",
    "print(aov_table1)"
   ]
  },
  {
   "cell_type": "code",
   "execution_count": 79,
   "metadata": {},
   "outputs": [
    {
     "name": "stdout",
     "output_type": "stream",
     "text": [
      "                sum_sq  df        F       PR(>F)    eta_sq  omega_sq\n",
      "supp        205.350000   1   15.572  0.000231183  0.059484  0.055452\n",
      "dose       2426.434333   2       92  4.04629e-18  0.702864  0.692579\n",
      "supp:dose   108.319000   2  4.10699    0.0218603  0.031377  0.023647\n",
      "Residual    712.106000  54      NaN          NaN       NaN       NaN\n"
     ]
    }
   ],
   "source": [
    "# Table with effect sizes\n",
    "def eta_squared(aov):\n",
    "    aov['eta_sq'] = 'NaN'\n",
    "    aov['eta_sq'] = aov[:-1]['sum_sq']/sum(aov['sum_sq'])\n",
    "    return aov\n",
    "\n",
    "def omega_squared(aov):\n",
    "    mse = aov['sum_sq'][-1]/aov['df'][-1]\n",
    "    aov['omega_sq'] = 'NaN'\n",
    "    aov['omega_sq'] = (aov[:-1]['sum_sq']-(aov[:-1]['df']*mse))/(sum(aov['sum_sq'])+mse)\n",
    "    return aov\n",
    "\n",
    "\n",
    "eta_squared(aov_table1)\n",
    "omega_squared(aov_table1)\n",
    "print(aov_table1)"
   ]
  },
  {
   "cell_type": "code",
   "execution_count": null,
   "metadata": {},
   "outputs": [],
   "source": []
  }
 ],
 "metadata": {
  "kernelspec": {
   "display_name": "Python 3",
   "language": "python",
   "name": "python3"
  },
  "language_info": {
   "codemirror_mode": {
    "name": "ipython",
    "version": 3
   },
   "file_extension": ".py",
   "mimetype": "text/x-python",
   "name": "python",
   "nbconvert_exporter": "python",
   "pygments_lexer": "ipython3",
   "version": "3.6.5"
  }
 },
 "nbformat": 4,
 "nbformat_minor": 2
}
