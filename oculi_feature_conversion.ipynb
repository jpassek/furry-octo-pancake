{
 "cells": [
  {
   "cell_type": "code",
   "execution_count": 3,
   "metadata": {},
   "outputs": [],
   "source": [
    "import pandas\n",
    "import numpy as np\n",
    "import sklearn as sk"
   ]
  },
  {
   "cell_type": "code",
   "execution_count": 5,
   "metadata": {},
   "outputs": [],
   "source": [
    "data = pandas.read_csv('/Users/justinpassek/Downloads/oculi_feature_labels.csv')"
   ]
  },
  {
   "cell_type": "code",
   "execution_count": 6,
   "metadata": {
    "scrolled": true
   },
   "outputs": [],
   "source": [
    "perf = pandas.read_csv('/Users/justinpassek/Downloads/creative_performance.csv')\n",
    "perf['CTR'] = perf['clicks'] / perf['imps']\n",
    "quantile = perf['CTR'].quantile(.5)\n",
    "perf['label'] = perf['CTR'].apply(lambda x: 1 if x > quantile else 0)"
   ]
  },
  {
   "cell_type": "code",
   "execution_count": 7,
   "metadata": {},
   "outputs": [],
   "source": [
    "features = data['description'].str.get_dummies()"
   ]
  },
  {
   "cell_type": "code",
   "execution_count": 8,
   "metadata": {},
   "outputs": [],
   "source": [
    "agg = features.aggregate('sum',axis=0)"
   ]
  },
  {
   "cell_type": "code",
   "execution_count": 9,
   "metadata": {},
   "outputs": [],
   "source": [
    "features_to_drop = list(agg[agg < 10].index)"
   ]
  },
  {
   "cell_type": "code",
   "execution_count": 10,
   "metadata": {},
   "outputs": [],
   "source": [
    "filtered_features = pandas.DataFrame({'encoded':features.drop(columns=features_to_drop).values.tolist()})"
   ]
  },
  {
   "cell_type": "code",
   "execution_count": 11,
   "metadata": {},
   "outputs": [],
   "source": [
    "encoded_data = data.merge(filtered_features,how='outer',left_index=True,right_index=True)\n",
    "\n",
    "encoded_data['encoded'] = encoded_data['encoded'].apply(np.array)"
   ]
  },
  {
   "cell_type": "code",
   "execution_count": 12,
   "metadata": {
    "scrolled": true
   },
   "outputs": [],
   "source": [
    "data_collapsed = encoded_data[['Creative_ID','encoded']].groupby(['Creative_ID'],as_index=False).sum()"
   ]
  },
  {
   "cell_type": "code",
   "execution_count": 13,
   "metadata": {},
   "outputs": [],
   "source": [
    "data_labeled = data_collapsed.merge(perf[['Creative_ID','label']],on=['Creative_ID'],how='left')\n",
    "data_labeled = data_labeled.fillna(0)"
   ]
  },
  {
   "cell_type": "code",
   "execution_count": 14,
   "metadata": {},
   "outputs": [],
   "source": [
    "from sklearn.linear_model import LogisticRegression"
   ]
  },
  {
   "cell_type": "code",
   "execution_count": 15,
   "metadata": {},
   "outputs": [],
   "source": [
    "LR = LogisticRegression(penalty='l1',max_iter=100)"
   ]
  },
  {
   "cell_type": "code",
   "execution_count": 16,
   "metadata": {},
   "outputs": [],
   "source": [
    "model = LR.fit(\n",
    "    pandas.DataFrame(data_labeled['encoded'].tolist()).loc[:],\n",
    "    pandas.DataFrame(data_labeled['label'].tolist()).loc[:].values.ravel()\n",
    ")"
   ]
  },
  {
   "cell_type": "code",
   "execution_count": 17,
   "metadata": {},
   "outputs": [],
   "source": [
    "feature_coef = pandas.concat(\n",
    "    [pandas.DataFrame(features.drop(columns=features_to_drop).columns,columns=['features']),\n",
    "     pandas.DataFrame(np.transpose(LR.coef_),columns=['coefficients'])],\n",
    "    axis=1\n",
    ")"
   ]
  },
  {
   "cell_type": "code",
   "execution_count": 353,
   "metadata": {},
   "outputs": [
    {
     "data": {
      "text/html": [
       "<div>\n",
       "<style scoped>\n",
       "    .dataframe tbody tr th:only-of-type {\n",
       "        vertical-align: middle;\n",
       "    }\n",
       "\n",
       "    .dataframe tbody tr th {\n",
       "        vertical-align: top;\n",
       "    }\n",
       "\n",
       "    .dataframe thead th {\n",
       "        text-align: right;\n",
       "    }\n",
       "</style>\n",
       "<table border=\"1\" class=\"dataframe\">\n",
       "  <thead>\n",
       "    <tr style=\"text-align: right;\">\n",
       "      <th></th>\n",
       "      <th>features</th>\n",
       "      <th>coefficients</th>\n",
       "    </tr>\n",
       "  </thead>\n",
       "  <tbody>\n",
       "    <tr>\n",
       "      <th>2</th>\n",
       "      <td>Banner</td>\n",
       "      <td>-0.718113</td>\n",
       "    </tr>\n",
       "    <tr>\n",
       "      <th>3</th>\n",
       "      <td>Bed</td>\n",
       "      <td>0.049305</td>\n",
       "    </tr>\n",
       "    <tr>\n",
       "      <th>4</th>\n",
       "      <td>Bed frame</td>\n",
       "      <td>0.024015</td>\n",
       "    </tr>\n",
       "    <tr>\n",
       "      <th>8</th>\n",
       "      <td>Beige</td>\n",
       "      <td>-0.743051</td>\n",
       "    </tr>\n",
       "    <tr>\n",
       "      <th>10</th>\n",
       "      <td>Blue</td>\n",
       "      <td>-0.037754</td>\n",
       "    </tr>\n",
       "    <tr>\n",
       "      <th>12</th>\n",
       "      <td>Brand</td>\n",
       "      <td>0.833986</td>\n",
       "    </tr>\n",
       "    <tr>\n",
       "      <th>13</th>\n",
       "      <td>Brown</td>\n",
       "      <td>1.607657</td>\n",
       "    </tr>\n",
       "    <tr>\n",
       "      <th>15</th>\n",
       "      <td>Circle</td>\n",
       "      <td>-1.346199</td>\n",
       "    </tr>\n",
       "    <tr>\n",
       "      <th>16</th>\n",
       "      <td>Comfort</td>\n",
       "      <td>0.431141</td>\n",
       "    </tr>\n",
       "    <tr>\n",
       "      <th>17</th>\n",
       "      <td>Company</td>\n",
       "      <td>0.660241</td>\n",
       "    </tr>\n",
       "    <tr>\n",
       "      <th>19</th>\n",
       "      <td>Design</td>\n",
       "      <td>0.937114</td>\n",
       "    </tr>\n",
       "    <tr>\n",
       "      <th>20</th>\n",
       "      <td>Document</td>\n",
       "      <td>0.821584</td>\n",
       "    </tr>\n",
       "    <tr>\n",
       "      <th>24</th>\n",
       "      <td>Font</td>\n",
       "      <td>-0.257589</td>\n",
       "    </tr>\n",
       "    <tr>\n",
       "      <th>25</th>\n",
       "      <td>Fun</td>\n",
       "      <td>0.016236</td>\n",
       "    </tr>\n",
       "    <tr>\n",
       "      <th>26</th>\n",
       "      <td>Furniture</td>\n",
       "      <td>-0.431723</td>\n",
       "    </tr>\n",
       "    <tr>\n",
       "      <th>27</th>\n",
       "      <td>Graphics</td>\n",
       "      <td>0.533330</td>\n",
       "    </tr>\n",
       "    <tr>\n",
       "      <th>32</th>\n",
       "      <td>Joint</td>\n",
       "      <td>0.429070</td>\n",
       "    </tr>\n",
       "    <tr>\n",
       "      <th>33</th>\n",
       "      <td>Leg</td>\n",
       "      <td>-0.050325</td>\n",
       "    </tr>\n",
       "    <tr>\n",
       "      <th>36</th>\n",
       "      <td>Logo</td>\n",
       "      <td>-0.105104</td>\n",
       "    </tr>\n",
       "    <tr>\n",
       "      <th>38</th>\n",
       "      <td>Mattress</td>\n",
       "      <td>0.842417</td>\n",
       "    </tr>\n",
       "    <tr>\n",
       "      <th>40</th>\n",
       "      <td>Nap</td>\n",
       "      <td>0.648615</td>\n",
       "    </tr>\n",
       "    <tr>\n",
       "      <th>41</th>\n",
       "      <td>Paper</td>\n",
       "      <td>0.224914</td>\n",
       "    </tr>\n",
       "    <tr>\n",
       "      <th>43</th>\n",
       "      <td>Pattern</td>\n",
       "      <td>0.583411</td>\n",
       "    </tr>\n",
       "    <tr>\n",
       "      <th>48</th>\n",
       "      <td>Product</td>\n",
       "      <td>0.345825</td>\n",
       "    </tr>\n",
       "    <tr>\n",
       "      <th>49</th>\n",
       "      <td>Property</td>\n",
       "      <td>-0.077170</td>\n",
       "    </tr>\n",
       "    <tr>\n",
       "      <th>51</th>\n",
       "      <td>Rectangle</td>\n",
       "      <td>1.072826</td>\n",
       "    </tr>\n",
       "    <tr>\n",
       "      <th>52</th>\n",
       "      <td>Room</td>\n",
       "      <td>0.052363</td>\n",
       "    </tr>\n",
       "    <tr>\n",
       "      <th>53</th>\n",
       "      <td>Signage</td>\n",
       "      <td>-0.405681</td>\n",
       "    </tr>\n",
       "    <tr>\n",
       "      <th>54</th>\n",
       "      <td>Sitting</td>\n",
       "      <td>-1.376407</td>\n",
       "    </tr>\n",
       "    <tr>\n",
       "      <th>55</th>\n",
       "      <td>Skin</td>\n",
       "      <td>0.162055</td>\n",
       "    </tr>\n",
       "    <tr>\n",
       "      <th>59</th>\n",
       "      <td>Table</td>\n",
       "      <td>0.508695</td>\n",
       "    </tr>\n",
       "    <tr>\n",
       "      <th>60</th>\n",
       "      <td>Technology</td>\n",
       "      <td>-0.310407</td>\n",
       "    </tr>\n",
       "    <tr>\n",
       "      <th>61</th>\n",
       "      <td>Text</td>\n",
       "      <td>-0.771215</td>\n",
       "    </tr>\n",
       "    <tr>\n",
       "      <th>63</th>\n",
       "      <td>Wall</td>\n",
       "      <td>0.220865</td>\n",
       "    </tr>\n",
       "    <tr>\n",
       "      <th>64</th>\n",
       "      <td>Wall sticker</td>\n",
       "      <td>-0.086804</td>\n",
       "    </tr>\n",
       "    <tr>\n",
       "      <th>65</th>\n",
       "      <td>White</td>\n",
       "      <td>0.128830</td>\n",
       "    </tr>\n",
       "  </tbody>\n",
       "</table>\n",
       "</div>"
      ],
      "text/plain": [
       "        features  coefficients\n",
       "2         Banner     -0.718113\n",
       "3            Bed      0.049305\n",
       "4      Bed frame      0.024015\n",
       "8          Beige     -0.743051\n",
       "10          Blue     -0.037754\n",
       "12         Brand      0.833986\n",
       "13         Brown      1.607657\n",
       "15        Circle     -1.346199\n",
       "16       Comfort      0.431141\n",
       "17       Company      0.660241\n",
       "19        Design      0.937114\n",
       "20      Document      0.821584\n",
       "24          Font     -0.257589\n",
       "25           Fun      0.016236\n",
       "26     Furniture     -0.431723\n",
       "27      Graphics      0.533330\n",
       "32         Joint      0.429070\n",
       "33           Leg     -0.050325\n",
       "36          Logo     -0.105104\n",
       "38      Mattress      0.842417\n",
       "40           Nap      0.648615\n",
       "41         Paper      0.224914\n",
       "43       Pattern      0.583411\n",
       "48       Product      0.345825\n",
       "49      Property     -0.077170\n",
       "51     Rectangle      1.072826\n",
       "52          Room      0.052363\n",
       "53       Signage     -0.405681\n",
       "54       Sitting     -1.376407\n",
       "55          Skin      0.162055\n",
       "59         Table      0.508695\n",
       "60    Technology     -0.310407\n",
       "61          Text     -0.771215\n",
       "63          Wall      0.220865\n",
       "64  Wall sticker     -0.086804\n",
       "65         White      0.128830"
      ]
     },
     "execution_count": 353,
     "metadata": {},
     "output_type": "execute_result"
    }
   ],
   "source": [
    "feature_coef[feature_coef['coefficients'] != 0]"
   ]
  },
  {
   "cell_type": "code",
   "execution_count": null,
   "metadata": {},
   "outputs": [],
   "source": []
  }
 ],
 "metadata": {
  "kernelspec": {
   "display_name": "Python 3",
   "language": "python",
   "name": "python3"
  },
  "language_info": {
   "codemirror_mode": {
    "name": "ipython",
    "version": 3
   },
   "file_extension": ".py",
   "mimetype": "text/x-python",
   "name": "python",
   "nbconvert_exporter": "python",
   "pygments_lexer": "ipython3",
   "version": "3.6.5"
  }
 },
 "nbformat": 4,
 "nbformat_minor": 2
}
