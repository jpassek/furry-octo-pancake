{
 "cells": [
  {
   "cell_type": "code",
   "execution_count": 1,
   "metadata": {},
   "outputs": [],
   "source": [
    "# Import libraries\n",
    "import pandas as pd\n",
    "import statsmodels as sm\n",
    "import numpy as np\n",
    "from statsmodels.formula.api import ols\n",
    "from statsmodels.stats.anova import anova_lm\n",
    "from statsmodels.graphics.factorplots import interaction_plot\n",
    "import matplotlib.pyplot as plt\n",
    "from scipy import stats"
   ]
  },
  {
   "cell_type": "code",
   "execution_count": 5,
   "metadata": {},
   "outputs": [],
   "source": [
    "# Upload\n",
    "\n",
    "datafile = \"/Users/justinpassek/Downloads/Casper Shot Changes.csv\"\n",
    "df = pd.read_csv(datafile,skiprows=0)\n",
    "\n",
    "#print(df)"
   ]
  },
  {
   "cell_type": "code",
   "execution_count": 6,
   "metadata": {},
   "outputs": [
    {
     "name": "stdout",
     "output_type": "stream",
     "text": [
      "            sum_sq    df          F    PR(>F)\n",
      "x         0.168854   1.0  41.484195  0.000008\n",
      "Residual  0.065125  16.0        NaN       NaN\n"
     ]
    }
   ],
   "source": [
    "# Defined Anova Test Formula\n",
    "# Adjusted_Viewable_CTR is the Metric Column\n",
    "def one_way_anova_test(x):\n",
    "    formula = 'Adjusted_Viewable_CTR ~ x'\n",
    "#    formula = 'Completion_Rate ~ x'\n",
    "    model = ols(formula,data=df).fit()\n",
    "    aov_table = anova_lm(model, typ=2)\n",
    "    return aov_table\n",
    "\n",
    "#Inupt for formula is 'Dataset.DimensionColumnToTest'\n",
    "print(one_way_anova_test(df.Creative_Length))"
   ]
  },
  {
   "cell_type": "code",
   "execution_count": 27,
   "metadata": {},
   "outputs": [],
   "source": [
    "# Upload\n",
    "\n",
    "datafile = \"/Users/justinpassek/Downloads/Messaging.csv\"\n",
    "df = pd.read_csv(datafile,skiprows=0)\n",
    "\n",
    "#print(df)"
   ]
  },
  {
   "cell_type": "code",
   "execution_count": 28,
   "metadata": {},
   "outputs": [
    {
     "name": "stdout",
     "output_type": "stream",
     "text": [
      "            sum_sq      df         F    PR(>F)\n",
      "x         0.000025     2.0  0.052805  0.948566\n",
      "Residual  1.079589  4636.0       NaN       NaN\n"
     ]
    }
   ],
   "source": [
    "def one_way_anova_test(x):\n",
    "    formula = 'Adjusted_Viewable_CTR ~ x'\n",
    "    model = ols(formula,data=df).fit()\n",
    "    aov_table = anova_lm(model, typ=2)\n",
    "    return aov_table\n",
    "\n",
    "print(one_way_anova_test(df.CTA))"
   ]
  }
 ],
 "metadata": {
  "kernelspec": {
   "display_name": "Python 3",
   "language": "python",
   "name": "python3"
  },
  "language_info": {
   "codemirror_mode": {
    "name": "ipython",
    "version": 3
   },
   "file_extension": ".py",
   "mimetype": "text/x-python",
   "name": "python",
   "nbconvert_exporter": "python",
   "pygments_lexer": "ipython3",
   "version": "3.6.5"
  }
 },
 "nbformat": 4,
 "nbformat_minor": 2
}
