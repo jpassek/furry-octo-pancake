{
 "cells": [
  {
   "cell_type": "code",
   "execution_count": 1,
   "metadata": {},
   "outputs": [],
   "source": [
    "def get(self):\n",
    "  bucket_name = os.environ.get('ceasars-test-dco-anova/6469_Caesars_Dynamic_Elements_20181103_055047_2003198075.csv',\n",
    "                               app_identity.get_default_gcs_bucket_name())\n",
    "\n",
    "  self.response.headers['Content-Type'] = 'text/plain'\n",
    "  self.response.write('Demo GCS Application running from Version: '\n",
    "                      + os.environ['CURRENT_VERSION_ID'] + '\\n')\n",
    "  self.response.write('Using bucket name: ' + bucket_name + '\\n\\n')"
   ]
  },
  {
   "cell_type": "code",
   "execution_count": null,
   "metadata": {},
   "outputs": [],
   "source": []
  }
 ],
 "metadata": {
  "kernelspec": {
   "display_name": "Python 3",
   "language": "python",
   "name": "python3"
  },
  "language_info": {
   "codemirror_mode": {
    "name": "ipython",
    "version": 3
   },
   "file_extension": ".py",
   "mimetype": "text/x-python",
   "name": "python",
   "nbconvert_exporter": "python",
   "pygments_lexer": "ipython3",
   "version": "3.6.5"
  }
 },
 "nbformat": 4,
 "nbformat_minor": 2
}
